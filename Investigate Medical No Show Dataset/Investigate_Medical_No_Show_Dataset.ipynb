{
 "cells": [
  {
   "cell_type": "markdown",
   "metadata": {},
   "source": [
    "# Project: Investigate a Dataset - Medical Appointment No Shows\n",
    "\n",
    "## Table of Contents\n",
    "<ul>\n",
    "<li><a href=\"#intro\">Introduction</a></li>\n",
    "<li><a href=\"#wrangling\">Data Wrangling</a></li>\n",
    "<li><a href=\"#eda\">Exploratory Data Analysis</a></li>\n",
    "<li><a href=\"#conclusions\">Conclusions</a></li>\n",
    "</ul>"
   ]
  },
  {
   "cell_type": "markdown",
   "metadata": {},
   "source": [
    "<a id='intro'></a>\n",
    "## Introduction\n",
    "\n",
    "### Dataset Description \n",
    "\n",
    "This dataset collects information from 100k medical appointments in Brazil and is focused on the question of why 20% of patients didn't show up to their appointment. A number of characteristics about the patient are included in each row.\n"
   ]
  },
  {
   "cell_type": "code",
   "execution_count": 1,
   "metadata": {},
   "outputs": [],
   "source": [
    "# importing the needed packages:\n",
    "import pandas as pd\n",
    "import numpy as np\n",
    "import matplotlib.pyplot as plt\n",
    "import seaborn as sns\n",
    "%matplotlib inline\n",
    "from datetime import datetime\n",
    "# importing the appointement dataset:\n",
    "df = pd.read_csv('noshowappointments-kagglev2-may-2016.csv')\n",
    "\n"
   ]
  },
  {
   "cell_type": "markdown",
   "metadata": {},
   "source": [
    "<a id='wrangling'></a>\n",
    "## Data Wrangling\n",
    "\n",
    "\n",
    "\n",
    "### Data assessing:\n"
   ]
  },
  {
   "cell_type": "code",
   "execution_count": 2,
   "metadata": {},
   "outputs": [
    {
     "data": {
      "text/html": [
       "<div>\n",
       "<style scoped>\n",
       "    .dataframe tbody tr th:only-of-type {\n",
       "        vertical-align: middle;\n",
       "    }\n",
       "\n",
       "    .dataframe tbody tr th {\n",
       "        vertical-align: top;\n",
       "    }\n",
       "\n",
       "    .dataframe thead th {\n",
       "        text-align: right;\n",
       "    }\n",
       "</style>\n",
       "<table border=\"1\" class=\"dataframe\">\n",
       "  <thead>\n",
       "    <tr style=\"text-align: right;\">\n",
       "      <th></th>\n",
       "      <th>PatientId</th>\n",
       "      <th>AppointmentID</th>\n",
       "      <th>Gender</th>\n",
       "      <th>ScheduledDay</th>\n",
       "      <th>AppointmentDay</th>\n",
       "      <th>Age</th>\n",
       "      <th>Neighbourhood</th>\n",
       "      <th>Scholarship</th>\n",
       "      <th>Hipertension</th>\n",
       "      <th>Diabetes</th>\n",
       "      <th>Alcoholism</th>\n",
       "      <th>Handcap</th>\n",
       "      <th>SMS_received</th>\n",
       "      <th>No-show</th>\n",
       "    </tr>\n",
       "  </thead>\n",
       "  <tbody>\n",
       "    <tr>\n",
       "      <th>0</th>\n",
       "      <td>2.987250e+13</td>\n",
       "      <td>5642903</td>\n",
       "      <td>F</td>\n",
       "      <td>2016-04-29T18:38:08Z</td>\n",
       "      <td>2016-04-29T00:00:00Z</td>\n",
       "      <td>62</td>\n",
       "      <td>JARDIM DA PENHA</td>\n",
       "      <td>0</td>\n",
       "      <td>1</td>\n",
       "      <td>0</td>\n",
       "      <td>0</td>\n",
       "      <td>0</td>\n",
       "      <td>0</td>\n",
       "      <td>No</td>\n",
       "    </tr>\n",
       "    <tr>\n",
       "      <th>1</th>\n",
       "      <td>5.589978e+14</td>\n",
       "      <td>5642503</td>\n",
       "      <td>M</td>\n",
       "      <td>2016-04-29T16:08:27Z</td>\n",
       "      <td>2016-04-29T00:00:00Z</td>\n",
       "      <td>56</td>\n",
       "      <td>JARDIM DA PENHA</td>\n",
       "      <td>0</td>\n",
       "      <td>0</td>\n",
       "      <td>0</td>\n",
       "      <td>0</td>\n",
       "      <td>0</td>\n",
       "      <td>0</td>\n",
       "      <td>No</td>\n",
       "    </tr>\n",
       "    <tr>\n",
       "      <th>2</th>\n",
       "      <td>4.262962e+12</td>\n",
       "      <td>5642549</td>\n",
       "      <td>F</td>\n",
       "      <td>2016-04-29T16:19:04Z</td>\n",
       "      <td>2016-04-29T00:00:00Z</td>\n",
       "      <td>62</td>\n",
       "      <td>MATA DA PRAIA</td>\n",
       "      <td>0</td>\n",
       "      <td>0</td>\n",
       "      <td>0</td>\n",
       "      <td>0</td>\n",
       "      <td>0</td>\n",
       "      <td>0</td>\n",
       "      <td>No</td>\n",
       "    </tr>\n",
       "    <tr>\n",
       "      <th>3</th>\n",
       "      <td>8.679512e+11</td>\n",
       "      <td>5642828</td>\n",
       "      <td>F</td>\n",
       "      <td>2016-04-29T17:29:31Z</td>\n",
       "      <td>2016-04-29T00:00:00Z</td>\n",
       "      <td>8</td>\n",
       "      <td>PONTAL DE CAMBURI</td>\n",
       "      <td>0</td>\n",
       "      <td>0</td>\n",
       "      <td>0</td>\n",
       "      <td>0</td>\n",
       "      <td>0</td>\n",
       "      <td>0</td>\n",
       "      <td>No</td>\n",
       "    </tr>\n",
       "    <tr>\n",
       "      <th>4</th>\n",
       "      <td>8.841186e+12</td>\n",
       "      <td>5642494</td>\n",
       "      <td>F</td>\n",
       "      <td>2016-04-29T16:07:23Z</td>\n",
       "      <td>2016-04-29T00:00:00Z</td>\n",
       "      <td>56</td>\n",
       "      <td>JARDIM DA PENHA</td>\n",
       "      <td>0</td>\n",
       "      <td>1</td>\n",
       "      <td>1</td>\n",
       "      <td>0</td>\n",
       "      <td>0</td>\n",
       "      <td>0</td>\n",
       "      <td>No</td>\n",
       "    </tr>\n",
       "  </tbody>\n",
       "</table>\n",
       "</div>"
      ],
      "text/plain": [
       "      PatientId  AppointmentID Gender          ScheduledDay  \\\n",
       "0  2.987250e+13        5642903      F  2016-04-29T18:38:08Z   \n",
       "1  5.589978e+14        5642503      M  2016-04-29T16:08:27Z   \n",
       "2  4.262962e+12        5642549      F  2016-04-29T16:19:04Z   \n",
       "3  8.679512e+11        5642828      F  2016-04-29T17:29:31Z   \n",
       "4  8.841186e+12        5642494      F  2016-04-29T16:07:23Z   \n",
       "\n",
       "         AppointmentDay  Age      Neighbourhood  Scholarship  Hipertension  \\\n",
       "0  2016-04-29T00:00:00Z   62    JARDIM DA PENHA            0             1   \n",
       "1  2016-04-29T00:00:00Z   56    JARDIM DA PENHA            0             0   \n",
       "2  2016-04-29T00:00:00Z   62      MATA DA PRAIA            0             0   \n",
       "3  2016-04-29T00:00:00Z    8  PONTAL DE CAMBURI            0             0   \n",
       "4  2016-04-29T00:00:00Z   56    JARDIM DA PENHA            0             1   \n",
       "\n",
       "   Diabetes  Alcoholism  Handcap  SMS_received No-show  \n",
       "0         0           0        0             0      No  \n",
       "1         0           0        0             0      No  \n",
       "2         0           0        0             0      No  \n",
       "3         0           0        0             0      No  \n",
       "4         1           0        0             0      No  "
      ]
     },
     "execution_count": 2,
     "metadata": {},
     "output_type": "execute_result"
    }
   ],
   "source": [
    "df.head()"
   ]
  },
  {
   "cell_type": "code",
   "execution_count": 3,
   "metadata": {},
   "outputs": [
    {
     "data": {
      "text/plain": [
       "PatientId          62299\n",
       "AppointmentID     110527\n",
       "Gender                 2\n",
       "ScheduledDay      103549\n",
       "AppointmentDay        27\n",
       "Age                  104\n",
       "Neighbourhood         81\n",
       "Scholarship            2\n",
       "Hipertension           2\n",
       "Diabetes               2\n",
       "Alcoholism             2\n",
       "Handcap                5\n",
       "SMS_received           2\n",
       "No-show                2\n",
       "dtype: int64"
      ]
     },
     "execution_count": 3,
     "metadata": {},
     "output_type": "execute_result"
    }
   ],
   "source": [
    "df.nunique()"
   ]
  },
  {
   "cell_type": "code",
   "execution_count": 4,
   "metadata": {},
   "outputs": [
    {
     "data": {
      "text/html": [
       "<div>\n",
       "<style scoped>\n",
       "    .dataframe tbody tr th:only-of-type {\n",
       "        vertical-align: middle;\n",
       "    }\n",
       "\n",
       "    .dataframe tbody tr th {\n",
       "        vertical-align: top;\n",
       "    }\n",
       "\n",
       "    .dataframe thead th {\n",
       "        text-align: right;\n",
       "    }\n",
       "</style>\n",
       "<table border=\"1\" class=\"dataframe\">\n",
       "  <thead>\n",
       "    <tr style=\"text-align: right;\">\n",
       "      <th></th>\n",
       "      <th>PatientId</th>\n",
       "      <th>AppointmentID</th>\n",
       "      <th>Age</th>\n",
       "      <th>Scholarship</th>\n",
       "      <th>Hipertension</th>\n",
       "      <th>Diabetes</th>\n",
       "      <th>Alcoholism</th>\n",
       "      <th>Handcap</th>\n",
       "      <th>SMS_received</th>\n",
       "    </tr>\n",
       "  </thead>\n",
       "  <tbody>\n",
       "    <tr>\n",
       "      <th>count</th>\n",
       "      <td>1.105270e+05</td>\n",
       "      <td>1.105270e+05</td>\n",
       "      <td>110527.000000</td>\n",
       "      <td>110527.000000</td>\n",
       "      <td>110527.000000</td>\n",
       "      <td>110527.000000</td>\n",
       "      <td>110527.000000</td>\n",
       "      <td>110527.000000</td>\n",
       "      <td>110527.000000</td>\n",
       "    </tr>\n",
       "    <tr>\n",
       "      <th>mean</th>\n",
       "      <td>1.474963e+14</td>\n",
       "      <td>5.675305e+06</td>\n",
       "      <td>37.088874</td>\n",
       "      <td>0.098266</td>\n",
       "      <td>0.197246</td>\n",
       "      <td>0.071865</td>\n",
       "      <td>0.030400</td>\n",
       "      <td>0.022248</td>\n",
       "      <td>0.321026</td>\n",
       "    </tr>\n",
       "    <tr>\n",
       "      <th>std</th>\n",
       "      <td>2.560949e+14</td>\n",
       "      <td>7.129575e+04</td>\n",
       "      <td>23.110205</td>\n",
       "      <td>0.297675</td>\n",
       "      <td>0.397921</td>\n",
       "      <td>0.258265</td>\n",
       "      <td>0.171686</td>\n",
       "      <td>0.161543</td>\n",
       "      <td>0.466873</td>\n",
       "    </tr>\n",
       "    <tr>\n",
       "      <th>min</th>\n",
       "      <td>3.921784e+04</td>\n",
       "      <td>5.030230e+06</td>\n",
       "      <td>-1.000000</td>\n",
       "      <td>0.000000</td>\n",
       "      <td>0.000000</td>\n",
       "      <td>0.000000</td>\n",
       "      <td>0.000000</td>\n",
       "      <td>0.000000</td>\n",
       "      <td>0.000000</td>\n",
       "    </tr>\n",
       "    <tr>\n",
       "      <th>25%</th>\n",
       "      <td>4.172614e+12</td>\n",
       "      <td>5.640286e+06</td>\n",
       "      <td>18.000000</td>\n",
       "      <td>0.000000</td>\n",
       "      <td>0.000000</td>\n",
       "      <td>0.000000</td>\n",
       "      <td>0.000000</td>\n",
       "      <td>0.000000</td>\n",
       "      <td>0.000000</td>\n",
       "    </tr>\n",
       "    <tr>\n",
       "      <th>50%</th>\n",
       "      <td>3.173184e+13</td>\n",
       "      <td>5.680573e+06</td>\n",
       "      <td>37.000000</td>\n",
       "      <td>0.000000</td>\n",
       "      <td>0.000000</td>\n",
       "      <td>0.000000</td>\n",
       "      <td>0.000000</td>\n",
       "      <td>0.000000</td>\n",
       "      <td>0.000000</td>\n",
       "    </tr>\n",
       "    <tr>\n",
       "      <th>75%</th>\n",
       "      <td>9.439172e+13</td>\n",
       "      <td>5.725524e+06</td>\n",
       "      <td>55.000000</td>\n",
       "      <td>0.000000</td>\n",
       "      <td>0.000000</td>\n",
       "      <td>0.000000</td>\n",
       "      <td>0.000000</td>\n",
       "      <td>0.000000</td>\n",
       "      <td>1.000000</td>\n",
       "    </tr>\n",
       "    <tr>\n",
       "      <th>max</th>\n",
       "      <td>9.999816e+14</td>\n",
       "      <td>5.790484e+06</td>\n",
       "      <td>115.000000</td>\n",
       "      <td>1.000000</td>\n",
       "      <td>1.000000</td>\n",
       "      <td>1.000000</td>\n",
       "      <td>1.000000</td>\n",
       "      <td>4.000000</td>\n",
       "      <td>1.000000</td>\n",
       "    </tr>\n",
       "  </tbody>\n",
       "</table>\n",
       "</div>"
      ],
      "text/plain": [
       "          PatientId  AppointmentID            Age    Scholarship  \\\n",
       "count  1.105270e+05   1.105270e+05  110527.000000  110527.000000   \n",
       "mean   1.474963e+14   5.675305e+06      37.088874       0.098266   \n",
       "std    2.560949e+14   7.129575e+04      23.110205       0.297675   \n",
       "min    3.921784e+04   5.030230e+06      -1.000000       0.000000   \n",
       "25%    4.172614e+12   5.640286e+06      18.000000       0.000000   \n",
       "50%    3.173184e+13   5.680573e+06      37.000000       0.000000   \n",
       "75%    9.439172e+13   5.725524e+06      55.000000       0.000000   \n",
       "max    9.999816e+14   5.790484e+06     115.000000       1.000000   \n",
       "\n",
       "        Hipertension       Diabetes     Alcoholism        Handcap  \\\n",
       "count  110527.000000  110527.000000  110527.000000  110527.000000   \n",
       "mean        0.197246       0.071865       0.030400       0.022248   \n",
       "std         0.397921       0.258265       0.171686       0.161543   \n",
       "min         0.000000       0.000000       0.000000       0.000000   \n",
       "25%         0.000000       0.000000       0.000000       0.000000   \n",
       "50%         0.000000       0.000000       0.000000       0.000000   \n",
       "75%         0.000000       0.000000       0.000000       0.000000   \n",
       "max         1.000000       1.000000       1.000000       4.000000   \n",
       "\n",
       "        SMS_received  \n",
       "count  110527.000000  \n",
       "mean        0.321026  \n",
       "std         0.466873  \n",
       "min         0.000000  \n",
       "25%         0.000000  \n",
       "50%         0.000000  \n",
       "75%         1.000000  \n",
       "max         1.000000  "
      ]
     },
     "execution_count": 4,
     "metadata": {},
     "output_type": "execute_result"
    }
   ],
   "source": [
    "\n",
    "df.describe()"
   ]
  },
  {
   "cell_type": "code",
   "execution_count": 5,
   "metadata": {},
   "outputs": [
    {
     "data": {
      "text/plain": [
       "0"
      ]
     },
     "execution_count": 5,
     "metadata": {},
     "output_type": "execute_result"
    }
   ],
   "source": [
    "df.duplicated().sum()"
   ]
  },
  {
   "cell_type": "code",
   "execution_count": 6,
   "metadata": {},
   "outputs": [
    {
     "data": {
      "text/plain": [
       "0"
      ]
     },
     "execution_count": 6,
     "metadata": {},
     "output_type": "execute_result"
    }
   ],
   "source": [
    "df['AppointmentID'].duplicated().sum()"
   ]
  },
  {
   "cell_type": "markdown",
   "metadata": {},
   "source": [
    "### Data assessing summary:\n",
    "###### -We can notice that all the data is non-null and that is good, but in terms of uniqueness we can notice that patientID we do have some duplicate, probably some patient has more than one appointment.\n",
    "###### -Also in the handicap column we must have only 2 values but we have 5.\n",
    "###### -Too I'm going to rename the No-show column to no_show.\n",
    "###### -And I'm going to change the type of both dates columns to DateTime.\n",
    "###### -The described attribute showed that we have a -1 as the minimum in the age column, so we are going to drop the corresponding row or rows.\n",
    "###### Drop the PatientId and AppointmentID because we will not work with them."
   ]
  },
  {
   "cell_type": "markdown",
   "metadata": {},
   "source": [
    "\n",
    "### Data Cleaning:\n",
    "###### After discussing the data structure and its issues, the next step is cleaning it."
   ]
  },
  {
   "cell_type": "code",
   "execution_count": 8,
   "metadata": {},
   "outputs": [],
   "source": [
    "df['ScheduledDay']= pd.to_datetime(df['ScheduledDay'])\n",
    "df['AppointmentDay']= pd.to_datetime(df['AppointmentDay'])\n",
    "df = df.rename(columns={'No-show': 'no_show'})\n",
    "df.drop(index=99832, inplace=True)\n",
    "updated = df['Handcap'] > 1\n",
    "df.loc[updated, 'Handcap'] = 1\n",
    "df.drop(['PatientId', 'AppointmentID'], axis=1, inplace=True)"
   ]
  },
  {
   "cell_type": "code",
   "execution_count": 9,
   "metadata": {},
   "outputs": [],
   "source": [
    "df['ScheduledDay']= pd.to_datetime(df['ScheduledDay'])\n"
   ]
  },
  {
   "cell_type": "code",
   "execution_count": 10,
   "metadata": {},
   "outputs": [
    {
     "name": "stdout",
     "output_type": "stream",
     "text": [
      "<class 'pandas.core.frame.DataFrame'>\n",
      "Int64Index: 110526 entries, 0 to 110526\n",
      "Data columns (total 12 columns):\n",
      " #   Column          Non-Null Count   Dtype              \n",
      "---  ------          --------------   -----              \n",
      " 0   Gender          110526 non-null  object             \n",
      " 1   ScheduledDay    110526 non-null  datetime64[ns, UTC]\n",
      " 2   AppointmentDay  110526 non-null  datetime64[ns, UTC]\n",
      " 3   Age             110526 non-null  int64              \n",
      " 4   Neighbourhood   110526 non-null  object             \n",
      " 5   Scholarship     110526 non-null  int64              \n",
      " 6   Hipertension    110526 non-null  int64              \n",
      " 7   Diabetes        110526 non-null  int64              \n",
      " 8   Alcoholism      110526 non-null  int64              \n",
      " 9   Handcap         110526 non-null  int64              \n",
      " 10  SMS_received    110526 non-null  int64              \n",
      " 11  no_show         110526 non-null  object             \n",
      "dtypes: datetime64[ns, UTC](2), int64(7), object(3)\n",
      "memory usage: 11.0+ MB\n"
     ]
    }
   ],
   "source": [
    "df.info()"
   ]
  },
  {
   "cell_type": "code",
   "execution_count": 34,
   "metadata": {},
   "outputs": [
    {
     "data": {
      "text/html": [
       "<div>\n",
       "<style scoped>\n",
       "    .dataframe tbody tr th:only-of-type {\n",
       "        vertical-align: middle;\n",
       "    }\n",
       "\n",
       "    .dataframe tbody tr th {\n",
       "        vertical-align: top;\n",
       "    }\n",
       "\n",
       "    .dataframe thead th {\n",
       "        text-align: right;\n",
       "    }\n",
       "</style>\n",
       "<table border=\"1\" class=\"dataframe\">\n",
       "  <thead>\n",
       "    <tr style=\"text-align: right;\">\n",
       "      <th></th>\n",
       "      <th>Age</th>\n",
       "      <th>Scholarship</th>\n",
       "      <th>Hipertension</th>\n",
       "      <th>Diabetes</th>\n",
       "      <th>Alcoholism</th>\n",
       "      <th>Handcap</th>\n",
       "      <th>SMS_received</th>\n",
       "      <th>no_show</th>\n",
       "      <th>waited_days</th>\n",
       "    </tr>\n",
       "  </thead>\n",
       "  <tbody>\n",
       "    <tr>\n",
       "      <th>count</th>\n",
       "      <td>110526.000000</td>\n",
       "      <td>110526.000000</td>\n",
       "      <td>110526.000000</td>\n",
       "      <td>110526.000000</td>\n",
       "      <td>110526.000000</td>\n",
       "      <td>110526.000000</td>\n",
       "      <td>110526.000000</td>\n",
       "      <td>110526.000000</td>\n",
       "      <td>110526.000000</td>\n",
       "    </tr>\n",
       "    <tr>\n",
       "      <th>mean</th>\n",
       "      <td>37.089219</td>\n",
       "      <td>0.098266</td>\n",
       "      <td>0.197248</td>\n",
       "      <td>0.071865</td>\n",
       "      <td>0.030400</td>\n",
       "      <td>0.020276</td>\n",
       "      <td>0.321029</td>\n",
       "      <td>0.201934</td>\n",
       "      <td>10.183975</td>\n",
       "    </tr>\n",
       "    <tr>\n",
       "      <th>std</th>\n",
       "      <td>23.110026</td>\n",
       "      <td>0.297676</td>\n",
       "      <td>0.397923</td>\n",
       "      <td>0.258266</td>\n",
       "      <td>0.171686</td>\n",
       "      <td>0.140943</td>\n",
       "      <td>0.466874</td>\n",
       "      <td>0.401445</td>\n",
       "      <td>15.254914</td>\n",
       "    </tr>\n",
       "    <tr>\n",
       "      <th>min</th>\n",
       "      <td>0.000000</td>\n",
       "      <td>0.000000</td>\n",
       "      <td>0.000000</td>\n",
       "      <td>0.000000</td>\n",
       "      <td>0.000000</td>\n",
       "      <td>0.000000</td>\n",
       "      <td>0.000000</td>\n",
       "      <td>0.000000</td>\n",
       "      <td>0.000000</td>\n",
       "    </tr>\n",
       "    <tr>\n",
       "      <th>25%</th>\n",
       "      <td>18.000000</td>\n",
       "      <td>0.000000</td>\n",
       "      <td>0.000000</td>\n",
       "      <td>0.000000</td>\n",
       "      <td>0.000000</td>\n",
       "      <td>0.000000</td>\n",
       "      <td>0.000000</td>\n",
       "      <td>0.000000</td>\n",
       "      <td>0.000000</td>\n",
       "    </tr>\n",
       "    <tr>\n",
       "      <th>50%</th>\n",
       "      <td>37.000000</td>\n",
       "      <td>0.000000</td>\n",
       "      <td>0.000000</td>\n",
       "      <td>0.000000</td>\n",
       "      <td>0.000000</td>\n",
       "      <td>0.000000</td>\n",
       "      <td>0.000000</td>\n",
       "      <td>0.000000</td>\n",
       "      <td>4.000000</td>\n",
       "    </tr>\n",
       "    <tr>\n",
       "      <th>75%</th>\n",
       "      <td>55.000000</td>\n",
       "      <td>0.000000</td>\n",
       "      <td>0.000000</td>\n",
       "      <td>0.000000</td>\n",
       "      <td>0.000000</td>\n",
       "      <td>0.000000</td>\n",
       "      <td>1.000000</td>\n",
       "      <td>0.000000</td>\n",
       "      <td>15.000000</td>\n",
       "    </tr>\n",
       "    <tr>\n",
       "      <th>max</th>\n",
       "      <td>115.000000</td>\n",
       "      <td>1.000000</td>\n",
       "      <td>1.000000</td>\n",
       "      <td>1.000000</td>\n",
       "      <td>1.000000</td>\n",
       "      <td>1.000000</td>\n",
       "      <td>1.000000</td>\n",
       "      <td>1.000000</td>\n",
       "      <td>179.000000</td>\n",
       "    </tr>\n",
       "  </tbody>\n",
       "</table>\n",
       "</div>"
      ],
      "text/plain": [
       "                 Age    Scholarship   Hipertension       Diabetes  \\\n",
       "count  110526.000000  110526.000000  110526.000000  110526.000000   \n",
       "mean       37.089219       0.098266       0.197248       0.071865   \n",
       "std        23.110026       0.297676       0.397923       0.258266   \n",
       "min         0.000000       0.000000       0.000000       0.000000   \n",
       "25%        18.000000       0.000000       0.000000       0.000000   \n",
       "50%        37.000000       0.000000       0.000000       0.000000   \n",
       "75%        55.000000       0.000000       0.000000       0.000000   \n",
       "max       115.000000       1.000000       1.000000       1.000000   \n",
       "\n",
       "          Alcoholism        Handcap   SMS_received        no_show  \\\n",
       "count  110526.000000  110526.000000  110526.000000  110526.000000   \n",
       "mean        0.030400       0.020276       0.321029       0.201934   \n",
       "std         0.171686       0.140943       0.466874       0.401445   \n",
       "min         0.000000       0.000000       0.000000       0.000000   \n",
       "25%         0.000000       0.000000       0.000000       0.000000   \n",
       "50%         0.000000       0.000000       0.000000       0.000000   \n",
       "75%         0.000000       0.000000       1.000000       0.000000   \n",
       "max         1.000000       1.000000       1.000000       1.000000   \n",
       "\n",
       "         waited_days  \n",
       "count  110526.000000  \n",
       "mean       10.183975  \n",
       "std        15.254914  \n",
       "min         0.000000  \n",
       "25%         0.000000  \n",
       "50%         4.000000  \n",
       "75%        15.000000  \n",
       "max       179.000000  "
      ]
     },
     "execution_count": 34,
     "metadata": {},
     "output_type": "execute_result"
    }
   ],
   "source": [
    "df.describe()"
   ]
  },
  {
   "cell_type": "markdown",
   "metadata": {},
   "source": [
    "### Data augmenting:\n",
    "######  1-Adding the day of appointment as a factor to analyze, so I'm going to add it in a new column called dayoftheweek.\n"
   ]
  },
  {
   "cell_type": "code",
   "execution_count": 11,
   "metadata": {},
   "outputs": [],
   "source": [
    "df['dayoftheweek'] = df['ScheduledDay'].dt.day_name()\n"
   ]
  },
  {
   "cell_type": "markdown",
   "metadata": {},
   "source": [
    "###### 2-Adding the waited _days column, it is the difference in days between the ScheduledDay and AppointmentDay.\n"
   ]
  },
  {
   "cell_type": "code",
   "execution_count": 12,
   "metadata": {},
   "outputs": [],
   "source": [
    "df['ScheduledDay'] = df['ScheduledDay'].dt.date\n",
    "df['AppointmentDay'] = df['AppointmentDay'].dt.date\n",
    "df['difference_in_days'] = abs(df['AppointmentDay'] - df['ScheduledDay'])\n",
    "df['difference_in_days'] = df.difference_in_days.astype(str)\n",
    "df[['waited_days', 'days']] = df['difference_in_days'].str.split(' ', 1, expand=True)"
   ]
  },
  {
   "cell_type": "code",
   "execution_count": 13,
   "metadata": {},
   "outputs": [],
   "source": [
    "df.drop(['difference_in_days', 'days'], axis=1, inplace=True)"
   ]
  },
  {
   "cell_type": "code",
   "execution_count": 14,
   "metadata": {},
   "outputs": [],
   "source": [
    "df[\"waited_days\"] = df[\"waited_days\"].astype(str).astype(int)\n"
   ]
  },
  {
   "cell_type": "code",
   "execution_count": 15,
   "metadata": {},
   "outputs": [
    {
     "name": "stdout",
     "output_type": "stream",
     "text": [
      "<class 'pandas.core.frame.DataFrame'>\n",
      "Int64Index: 110526 entries, 0 to 110526\n",
      "Data columns (total 14 columns):\n",
      " #   Column          Non-Null Count   Dtype \n",
      "---  ------          --------------   ----- \n",
      " 0   Gender          110526 non-null  object\n",
      " 1   ScheduledDay    110526 non-null  object\n",
      " 2   AppointmentDay  110526 non-null  object\n",
      " 3   Age             110526 non-null  int64 \n",
      " 4   Neighbourhood   110526 non-null  object\n",
      " 5   Scholarship     110526 non-null  int64 \n",
      " 6   Hipertension    110526 non-null  int64 \n",
      " 7   Diabetes        110526 non-null  int64 \n",
      " 8   Alcoholism      110526 non-null  int64 \n",
      " 9   Handcap         110526 non-null  int64 \n",
      " 10  SMS_received    110526 non-null  int64 \n",
      " 11  no_show         110526 non-null  object\n",
      " 12  dayoftheweek    110526 non-null  object\n",
      " 13  waited_days     110526 non-null  int32 \n",
      "dtypes: int32(1), int64(7), object(6)\n",
      "memory usage: 12.2+ MB\n"
     ]
    }
   ],
   "source": [
    "df.info()"
   ]
  },
  {
   "cell_type": "markdown",
   "metadata": {},
   "source": [
    "<a id='eda'></a>\n",
    "## Exploratory Data Analysis\n",
    "\n",
    "The first step that i will take is give us a bird eye view by drowing a correlation heatmap and histogram, but before this, i will numerize the columns that has an object type.\n",
    "\n"
   ]
  },
  {
   "cell_type": "code",
   "execution_count": 16,
   "metadata": {},
   "outputs": [
    {
     "data": {
      "text/html": [
       "<div>\n",
       "<style scoped>\n",
       "    .dataframe tbody tr th:only-of-type {\n",
       "        vertical-align: middle;\n",
       "    }\n",
       "\n",
       "    .dataframe tbody tr th {\n",
       "        vertical-align: top;\n",
       "    }\n",
       "\n",
       "    .dataframe thead th {\n",
       "        text-align: right;\n",
       "    }\n",
       "</style>\n",
       "<table border=\"1\" class=\"dataframe\">\n",
       "  <thead>\n",
       "    <tr style=\"text-align: right;\">\n",
       "      <th></th>\n",
       "      <th>Gender</th>\n",
       "      <th>ScheduledDay</th>\n",
       "      <th>AppointmentDay</th>\n",
       "      <th>Age</th>\n",
       "      <th>Neighbourhood</th>\n",
       "      <th>Scholarship</th>\n",
       "      <th>Hipertension</th>\n",
       "      <th>Diabetes</th>\n",
       "      <th>Alcoholism</th>\n",
       "      <th>Handcap</th>\n",
       "      <th>SMS_received</th>\n",
       "      <th>no_show</th>\n",
       "      <th>dayoftheweek</th>\n",
       "      <th>waited_days</th>\n",
       "    </tr>\n",
       "  </thead>\n",
       "  <tbody>\n",
       "    <tr>\n",
       "      <th>0</th>\n",
       "      <td>0</td>\n",
       "      <td>81</td>\n",
       "      <td>0</td>\n",
       "      <td>62</td>\n",
       "      <td>39</td>\n",
       "      <td>0</td>\n",
       "      <td>1</td>\n",
       "      <td>0</td>\n",
       "      <td>0</td>\n",
       "      <td>0</td>\n",
       "      <td>0</td>\n",
       "      <td>0</td>\n",
       "      <td>0</td>\n",
       "      <td>0</td>\n",
       "    </tr>\n",
       "    <tr>\n",
       "      <th>1</th>\n",
       "      <td>1</td>\n",
       "      <td>81</td>\n",
       "      <td>0</td>\n",
       "      <td>56</td>\n",
       "      <td>39</td>\n",
       "      <td>0</td>\n",
       "      <td>0</td>\n",
       "      <td>0</td>\n",
       "      <td>0</td>\n",
       "      <td>0</td>\n",
       "      <td>0</td>\n",
       "      <td>0</td>\n",
       "      <td>0</td>\n",
       "      <td>0</td>\n",
       "    </tr>\n",
       "    <tr>\n",
       "      <th>2</th>\n",
       "      <td>0</td>\n",
       "      <td>81</td>\n",
       "      <td>0</td>\n",
       "      <td>62</td>\n",
       "      <td>45</td>\n",
       "      <td>0</td>\n",
       "      <td>0</td>\n",
       "      <td>0</td>\n",
       "      <td>0</td>\n",
       "      <td>0</td>\n",
       "      <td>0</td>\n",
       "      <td>0</td>\n",
       "      <td>0</td>\n",
       "      <td>0</td>\n",
       "    </tr>\n",
       "    <tr>\n",
       "      <th>3</th>\n",
       "      <td>0</td>\n",
       "      <td>81</td>\n",
       "      <td>0</td>\n",
       "      <td>8</td>\n",
       "      <td>54</td>\n",
       "      <td>0</td>\n",
       "      <td>0</td>\n",
       "      <td>0</td>\n",
       "      <td>0</td>\n",
       "      <td>0</td>\n",
       "      <td>0</td>\n",
       "      <td>0</td>\n",
       "      <td>0</td>\n",
       "      <td>0</td>\n",
       "    </tr>\n",
       "    <tr>\n",
       "      <th>4</th>\n",
       "      <td>0</td>\n",
       "      <td>81</td>\n",
       "      <td>0</td>\n",
       "      <td>56</td>\n",
       "      <td>39</td>\n",
       "      <td>0</td>\n",
       "      <td>1</td>\n",
       "      <td>1</td>\n",
       "      <td>0</td>\n",
       "      <td>0</td>\n",
       "      <td>0</td>\n",
       "      <td>0</td>\n",
       "      <td>0</td>\n",
       "      <td>0</td>\n",
       "    </tr>\n",
       "  </tbody>\n",
       "</table>\n",
       "</div>"
      ],
      "text/plain": [
       "   Gender  ScheduledDay  AppointmentDay  Age  Neighbourhood  Scholarship  \\\n",
       "0       0            81               0   62             39            0   \n",
       "1       1            81               0   56             39            0   \n",
       "2       0            81               0   62             45            0   \n",
       "3       0            81               0    8             54            0   \n",
       "4       0            81               0   56             39            0   \n",
       "\n",
       "   Hipertension  Diabetes  Alcoholism  Handcap  SMS_received  no_show  \\\n",
       "0             1         0           0        0             0        0   \n",
       "1             0         0           0        0             0        0   \n",
       "2             0         0           0        0             0        0   \n",
       "3             0         0           0        0             0        0   \n",
       "4             1         1           0        0             0        0   \n",
       "\n",
       "   dayoftheweek  waited_days  \n",
       "0             0            0  \n",
       "1             0            0  \n",
       "2             0            0  \n",
       "3             0            0  \n",
       "4             0            0  "
      ]
     },
     "execution_count": 16,
     "metadata": {},
     "output_type": "execute_result"
    }
   ],
   "source": [
    "# first thing we will do is numerize the whole data set( gender, neighbourhood, dayoftheweek...) in order to correlatre between variables\n",
    "df2 = df.copy()\n",
    "df_numerized = df2\n",
    "for col_name in df_numerized.columns:\n",
    "    if(df_numerized[col_name].dtypes == 'object'):\n",
    "        df_numerized[col_name] = df_numerized[col_name].astype('category')\n",
    "        df_numerized[col_name] = df_numerized[col_name].cat.codes\n",
    "\n",
    "        \n",
    "df_numerized.head()\n"
   ]
  },
  {
   "cell_type": "code",
   "execution_count": 17,
   "metadata": {
    "scrolled": false
   },
   "outputs": [
    {
     "data": {
      "text/plain": [
       "waited_days     waited_days       1.000000\n",
       "Hipertension    Hipertension      1.000000\n",
       "Gender          Gender            1.000000\n",
       "no_show         no_show           1.000000\n",
       "SMS_received    SMS_received      1.000000\n",
       "Alcoholism      Alcoholism        1.000000\n",
       "Diabetes        Diabetes          1.000000\n",
       "Handcap         Handcap           1.000000\n",
       "Scholarship     Scholarship       1.000000\n",
       "Neighbourhood   Neighbourhood     1.000000\n",
       "Age             Age               1.000000\n",
       "AppointmentDay  AppointmentDay    1.000000\n",
       "ScheduledDay    ScheduledDay      1.000000\n",
       "dayoftheweek    dayoftheweek      1.000000\n",
       "ScheduledDay    AppointmentDay    0.607864\n",
       "AppointmentDay  ScheduledDay      0.607864\n",
       "Hipertension    Age               0.504586\n",
       "Age             Hipertension      0.504586\n",
       "Diabetes        Hipertension      0.433085\n",
       "Hipertension    Diabetes          0.433085\n",
       "waited_days     SMS_received      0.398138\n",
       "SMS_received    waited_days       0.398138\n",
       "Age             Diabetes          0.292391\n",
       "Diabetes        Age               0.292391\n",
       "waited_days     no_show           0.186253\n",
       "no_show         waited_days       0.186253\n",
       "                SMS_received      0.126428\n",
       "SMS_received    no_show           0.126428\n",
       "Alcoholism      Gender            0.106166\n",
       "Gender          Alcoholism        0.106166\n",
       "Alcoholism      Age               0.095810\n",
       "Age             Alcoholism        0.095810\n",
       "Hipertension    Alcoholism        0.087970\n",
       "Alcoholism      Hipertension      0.087970\n",
       "Hipertension    Handcap           0.084851\n",
       "Handcap         Hipertension      0.084851\n",
       "Age             Handcap           0.083742\n",
       "Handcap         Age               0.083742\n",
       "SMS_received    AppointmentDay    0.059228\n",
       "AppointmentDay  SMS_received      0.059228\n",
       "Diabetes        Handcap           0.059144\n",
       "Handcap         Diabetes          0.059144\n",
       "AppointmentDay  dayoftheweek      0.052672\n",
       "dayoftheweek    AppointmentDay    0.052672\n",
       "waited_days     AppointmentDay    0.037909\n",
       "AppointmentDay  waited_days       0.037909\n",
       "Alcoholism      Scholarship       0.035022\n",
       "Scholarship     Alcoholism        0.035022\n",
       "Age             waited_days       0.034822\n",
       "waited_days     Age               0.034822\n",
       "ScheduledDay    Alcoholism        0.032765\n",
       "Alcoholism      ScheduledDay      0.032765\n",
       "dayoftheweek    ScheduledDay      0.031786\n",
       "ScheduledDay    dayoftheweek      0.031786\n",
       "Scholarship     no_show           0.029134\n",
       "no_show         Scholarship       0.029134\n",
       "Diabetes        ScheduledDay      0.023578\n",
       "ScheduledDay    Diabetes          0.023578\n",
       "Scholarship     ScheduledDay      0.022755\n",
       "ScheduledDay    Scholarship       0.022755\n",
       "Gender          Handcap           0.022421\n",
       "Handcap         Gender            0.022421\n",
       "ScheduledDay    Gender            0.018625\n",
       "Gender          ScheduledDay      0.018625\n",
       "Diabetes        Alcoholism        0.018473\n",
       "Alcoholism      Diabetes          0.018473\n",
       "Neighbourhood   SMS_received      0.018274\n",
       "SMS_received    Neighbourhood     0.018274\n",
       "ScheduledDay    Handcap           0.015501\n",
       "Handcap         ScheduledDay      0.015501\n",
       "Hipertension    ScheduledDay      0.014890\n",
       "ScheduledDay    Hipertension      0.014890\n",
       "Age             SMS_received      0.012633\n",
       "SMS_received    Age               0.012633\n",
       "dayoftheweek    Neighbourhood     0.012336\n",
       "Neighbourhood   dayoftheweek      0.012336\n",
       "Age             AppointmentDay    0.011437\n",
       "AppointmentDay  Age               0.011437\n",
       "Diabetes        Neighbourhood     0.011349\n",
       "Neighbourhood   Diabetes          0.011349\n",
       "Handcap         Neighbourhood     0.009732\n",
       "Neighbourhood   Handcap           0.009732\n",
       "dayoftheweek    Scholarship       0.008450\n",
       "Scholarship     dayoftheweek      0.008450\n",
       "Neighbourhood   Scholarship       0.006868\n",
       "Scholarship     Neighbourhood     0.006868\n",
       "Neighbourhood   ScheduledDay      0.005974\n",
       "ScheduledDay    Neighbourhood     0.005974\n",
       "Neighbourhood   Hipertension      0.004327\n",
       "Hipertension    Neighbourhood     0.004327\n",
       "Neighbourhood   AppointmentDay    0.004255\n",
       "AppointmentDay  Neighbourhood     0.004255\n",
       "Handcap         Alcoholism        0.003692\n",
       "Alcoholism      Handcap           0.003692\n",
       "AppointmentDay  Alcoholism        0.002787\n",
       "Alcoholism      AppointmentDay    0.002787\n",
       "Diabetes        AppointmentDay    0.001192\n",
       "AppointmentDay  Diabetes          0.001192\n",
       "SMS_received    Scholarship       0.001192\n",
       "Scholarship     SMS_received      0.001192\n",
       "Neighbourhood   Alcoholism       -0.000009\n",
       "Alcoholism      Neighbourhood    -0.000009\n",
       "                no_show          -0.000197\n",
       "no_show         Alcoholism       -0.000197\n",
       "dayoftheweek    no_show          -0.000382\n",
       "no_show         dayoftheweek     -0.000382\n",
       "waited_days     dayoftheweek     -0.000399\n",
       "dayoftheweek    waited_days      -0.000399\n",
       "Diabetes        dayoftheweek     -0.000836\n",
       "dayoftheweek    Diabetes         -0.000836\n",
       "                Handcap          -0.001086\n",
       "Handcap         dayoftheweek     -0.001086\n",
       "Scholarship     AppointmentDay   -0.001699\n",
       "AppointmentDay  Scholarship      -0.001699\n",
       "dayoftheweek    Hipertension     -0.001827\n",
       "Hipertension    dayoftheweek     -0.001827\n",
       "waited_days     Neighbourhood    -0.002040\n",
       "Neighbourhood   waited_days      -0.002040\n",
       "Hipertension    AppointmentDay   -0.002224\n",
       "AppointmentDay  Hipertension     -0.002224\n",
       "                Handcap          -0.002869\n",
       "Handcap         AppointmentDay   -0.002869\n",
       "no_show         Gender           -0.004122\n",
       "Gender          no_show          -0.004122\n",
       "SMS_received    Hipertension     -0.006270\n",
       "Hipertension    SMS_received     -0.006270\n",
       "Gender          AppointmentDay   -0.006937\n",
       "AppointmentDay  Gender           -0.006937\n",
       "Handcap         no_show          -0.007281\n",
       "no_show         Handcap          -0.007281\n",
       "dayoftheweek    Alcoholism       -0.007612\n",
       "Alcoholism      dayoftheweek     -0.007612\n",
       "Neighbourhood   Gender           -0.008053\n",
       "Gender          Neighbourhood    -0.008053\n",
       "Neighbourhood   no_show          -0.008958\n",
       "no_show         Neighbourhood    -0.008958\n",
       "Scholarship     Handcap          -0.009104\n",
       "Handcap         Scholarship      -0.009104\n",
       "Gender          dayoftheweek     -0.012632\n",
       "dayoftheweek    Gender           -0.012632\n",
       "SMS_received    Diabetes         -0.014552\n",
       "Diabetes        SMS_received     -0.014552\n",
       "Age             dayoftheweek     -0.014662\n",
       "dayoftheweek    Age              -0.014662\n",
       "Diabetes        no_show          -0.015181\n",
       "no_show         Diabetes         -0.015181\n",
       "Neighbourhood   Age              -0.016346\n",
       "Age             Neighbourhood    -0.016346\n",
       "waited_days     Hipertension     -0.017224\n",
       "Hipertension    waited_days      -0.017224\n",
       "ScheduledDay    Age              -0.017976\n",
       "Age             ScheduledDay     -0.017976\n",
       "Hipertension    Scholarship      -0.019730\n",
       "Scholarship     Hipertension     -0.019730\n",
       "no_show         AppointmentDay   -0.020389\n",
       "AppointmentDay  no_show          -0.020389\n",
       "waited_days     Handcap          -0.020949\n",
       "Handcap         waited_days      -0.020949\n",
       "dayoftheweek    SMS_received     -0.024057\n",
       "SMS_received    dayoftheweek     -0.024057\n",
       "Diabetes        Scholarship      -0.024894\n",
       "Scholarship     Diabetes         -0.024894\n",
       "SMS_received    Handcap          -0.025221\n",
       "Handcap         SMS_received     -0.025221\n",
       "Alcoholism      SMS_received     -0.026149\n",
       "SMS_received    Alcoholism       -0.026149\n",
       "Diabetes        waited_days      -0.027193\n",
       "waited_days     Diabetes         -0.027193\n",
       "Gender          waited_days      -0.028415\n",
       "waited_days     Gender           -0.028415\n",
       "                Scholarship      -0.030427\n",
       "Scholarship     waited_days      -0.030427\n",
       "Diabetes        Gender           -0.032556\n",
       "Gender          Diabetes         -0.032556\n",
       "no_show         Hipertension     -0.035704\n",
       "Hipertension    no_show          -0.035704\n",
       "waited_days     Alcoholism       -0.038522\n",
       "Alcoholism      waited_days      -0.038522\n",
       "SMS_received    Gender           -0.046302\n",
       "Gender          SMS_received     -0.046302\n",
       "Hipertension    Gender           -0.055722\n",
       "Gender          Hipertension     -0.055722\n",
       "no_show         Age              -0.060327\n",
       "Age             no_show          -0.060327\n",
       "                Scholarship      -0.092463\n",
       "Scholarship     Age              -0.092463\n",
       "Age             Gender           -0.106452\n",
       "Gender          Age              -0.106452\n",
       "Scholarship     Gender           -0.114296\n",
       "Gender          Scholarship      -0.114296\n",
       "ScheduledDay    no_show          -0.164998\n",
       "no_show         ScheduledDay     -0.164998\n",
       "ScheduledDay    SMS_received     -0.259506\n",
       "SMS_received    ScheduledDay     -0.259506\n",
       "ScheduledDay    waited_days      -0.765576\n",
       "waited_days     ScheduledDay     -0.765576\n",
       "dtype: float64"
      ]
     },
     "execution_count": 17,
     "metadata": {},
     "output_type": "execute_result"
    }
   ],
   "source": [
    "# here we correlate between the whole variables\n",
    "correlation_mat = df_numerized.corr()\n",
    "corr_pairs = correlation_mat.unstack()\n",
    "sorted_pairs = corr_pairs.sort_values()\n",
    "# this code is made to show us the max of rows\n",
    "pd.set_option('display.max_rows', None)\n",
    "sorted_pairs.sort_values(ascending = False)"
   ]
  },
  {
   "cell_type": "markdown",
   "metadata": {},
   "source": [
    "### Insight: \n",
    "There is a low correlation of 0.398138 between the waited days and SMS received, and also a very low correlation of 0.186253 between the waited days and no show.\n"
   ]
  },
  {
   "cell_type": "markdown",
   "metadata": {},
   "source": [
    "### Question: Does age has an impact on respecting the appointement?"
   ]
  },
  {
   "cell_type": "code",
   "execution_count": 18,
   "metadata": {},
   "outputs": [],
   "source": [
    "#First i will create soe masks for this.\n",
    "showed = df_numerized.no_show == 0\n",
    "notshowed = df_numerized.no_show == 1\n"
   ]
  },
  {
   "cell_type": "code",
   "execution_count": 19,
   "metadata": {},
   "outputs": [
    {
     "data": {
      "image/png": "[encoded data removed]",
      "text/plain": [
       "<Figure size 1008x576 with 1 Axes>"
      ]
     },
     "metadata": {
      "needs_background": "light"
     },
     "output_type": "display_data"
    }
   ],
   "source": [
    "def showing_up(df,col_name,showed,notshowed): #settings\n",
    "    plt.figure(figsize=[14,8])\n",
    "    df[col_name][showed].hist(alpha=0.5,bins=10,color='blue',label='showed')\n",
    "    df[col_name][notshowed].hist(alpha=0.5,bins=10,color='red',label='not show')\n",
    "    plt.legend();\n",
    "    plt.title('comparison between showing up and age')\n",
    "    plt.xlabel('age')\n",
    "    plt.ylabel('patients Number');\n",
    "showing_up(df,'Age',showed,notshowed)"
   ]
  },
  {
   "cell_type": "code",
   "execution_count": 20,
   "metadata": {},
   "outputs": [
    {
     "data": {
      "text/plain": [
       "5.0"
      ]
     },
     "execution_count": 20,
     "metadata": {},
     "output_type": "execute_result"
    }
   ],
   "source": [
    "df.Age[showed].median() - df.Age[notshowed].median()"
   ]
  },
  {
   "cell_type": "markdown",
   "metadata": {},
   "source": [
    "### Insight: \n",
    "well, these results are not really saying that much just that 50% of the time people that showed up are older than the people that didn't show up by only 5 years."
   ]
  },
  {
   "cell_type": "markdown",
   "metadata": {},
   "source": [
    "### Question: Does SMS has an impact on respecting the appointement?"
   ]
  },
  {
   "cell_type": "code",
   "execution_count": 21,
   "metadata": {},
   "outputs": [
    {
     "data": {
      "image/png": "[encoded data removed]",
      "text/plain": [
       "<Figure size 1008x576 with 1 Axes>"
      ]
     },
     "metadata": {
      "needs_background": "light"
     },
     "output_type": "display_data"
    }
   ],
   "source": [
    "def showing_up(df,col_name,showed,notshowed): #settings\n",
    "    plt.figure(figsize=[14,8])\n",
    "    df[col_name][showed].hist(alpha=0.5,bins=10,color='blue',label='showed')\n",
    "    df[col_name][notshowed].hist(alpha=0.5,bins=10,color='red',label='not showed')\n",
    "    plt.legend();\n",
    "    plt.title('comparison between showing up and sms received')\n",
    "    plt.xlabel('SMS_received')\n",
    "    plt.ylabel('patients Number');\n",
    "showing_up(df,'SMS_received',showed,notshowed)"
   ]
  },
  {
   "cell_type": "code",
   "execution_count": 22,
   "metadata": {},
   "outputs": [
    {
     "data": {
      "text/plain": [
       "(0.29133742220005215, 0.43837089475334917)"
      ]
     },
     "execution_count": 22,
     "metadata": {},
     "output_type": "execute_result"
    }
   ],
   "source": [
    "df.SMS_received[showed].mean() , df.SMS_received[notshowed].mean()"
   ]
  },
  {
   "cell_type": "code",
   "execution_count": 23,
   "metadata": {},
   "outputs": [
    {
     "data": {
      "text/plain": [
       "0.3210285362720084"
      ]
     },
     "execution_count": 23,
     "metadata": {},
     "output_type": "execute_result"
    }
   ],
   "source": [
    "df.SMS_received.mean()"
   ]
  },
  {
   "cell_type": "markdown",
   "metadata": {},
   "source": [
    "### Insight: \n",
    "well, that says that only 32% of people received an SMS as a reminder about the appointment but the irony is people who showed up only 29% of them received the SMS, contrary to people that didn't show that 43% of them received the SMS."
   ]
  },
  {
   "cell_type": "markdown",
   "metadata": {},
   "source": [
    "### Question: Does the day of the week has an impact on respecting the appointement?"
   ]
  },
  {
   "cell_type": "code",
   "execution_count": 24,
   "metadata": {},
   "outputs": [
    {
     "data": {
      "image/png": "[encoded data removed]",
      "text/plain": [
       "<Figure size 1008x576 with 1 Axes>"
      ]
     },
     "metadata": {
      "needs_background": "light"
     },
     "output_type": "display_data"
    }
   ],
   "source": [
    "def showing_up(df,col_name,showed,notshowed): #settings\n",
    "    plt.figure(figsize=[14,8])\n",
    "    df[col_name][showed].hist(alpha=0.5,bins=10,color='blue',label='showed')\n",
    "    df[col_name][notshowed].hist(alpha=0.5,bins=10,color='red',label='notshow')\n",
    "    plt.legend();\n",
    "    plt.title('comparison between showing up and the day of the week')\n",
    "    plt.xlabel('dayoftheweek')\n",
    "    plt.ylabel('patients Number');\n",
    "showing_up(df,'dayoftheweek',showed,notshowed)"
   ]
  },
  {
   "cell_type": "markdown",
   "metadata": {},
   "source": [
    "### Insight: \n",
    "It seems that they are pretty much distributed"
   ]
  },
  {
   "cell_type": "markdown",
   "metadata": {},
   "source": [
    "### Question: Does gender has an impact on respecting the appointement?"
   ]
  },
  {
   "cell_type": "code",
   "execution_count": 25,
   "metadata": {},
   "outputs": [
    {
     "data": {
      "image/png": "[encoded data removed]",
      "text/plain": [
       "<Figure size 1008x576 with 1 Axes>"
      ]
     },
     "metadata": {
      "needs_background": "light"
     },
     "output_type": "display_data"
    }
   ],
   "source": [
    "def showing_up(df,col_name,showed,notshowed): #settings\n",
    "    plt.figure(figsize=[14,8])\n",
    "    df[col_name][showed].hist(alpha=0.5,bins=10,color='blue',label='showed')\n",
    "    df[col_name][notshowed].hist(alpha=0.5,bins=10,color='red',label='notshow')\n",
    "    plt.legend();\n",
    "    plt.title('comparison between showing up and gender')\n",
    "    plt.xlabel('Gender')\n",
    "    plt.ylabel('patients Number');\n",
    "showing_up(df,'Gender',showed,notshowed)"
   ]
  },
  {
   "cell_type": "markdown",
   "metadata": {},
   "source": [
    "### Insight:\n",
    "the gender factor isn't t telling that much, because even though females showed more than males but they are already more females than males in our data.\n"
   ]
  },
  {
   "cell_type": "markdown",
   "metadata": {},
   "source": [
    "### Question :Does the day of the week has an impact on respecting the appointement?"
   ]
  },
  {
   "cell_type": "code",
   "execution_count": 26,
   "metadata": {},
   "outputs": [
    {
     "data": {
      "image/png": "[encoded data removed]",
      "text/plain": [
       "<Figure size 1008x576 with 1 Axes>"
      ]
     },
     "metadata": {
      "needs_background": "light"
     },
     "output_type": "display_data"
    }
   ],
   "source": [
    "def showing_up(df,col_name,showed,notshowed): #settings\n",
    "    plt.figure(figsize=[14,8])\n",
    "    df[col_name][showed].hist(alpha=0.5,bins=10,color='blue',label='showed')\n",
    "    df[col_name][notshowed].hist(alpha=0.5,bins=10,color='red',label='notshow')\n",
    "    plt.legend();\n",
    "    plt.title('comparison between showing up and the day of the week')\n",
    "    plt.xlabel('dayoftheweek')\n",
    "    plt.ylabel('patients Number');\n",
    "showing_up(df,'dayoftheweek',showed,notshowed)"
   ]
  },
  {
   "cell_type": "markdown",
   "metadata": {},
   "source": [
    "### Insight: \n",
    "as we can see the days are pretty much well distributed so, nothing really significant. "
   ]
  },
  {
   "cell_type": "markdown",
   "metadata": {},
   "source": [
    "### Question: Does long days waiting has an impact on the appointement show up?"
   ]
  },
  {
   "cell_type": "code",
   "execution_count": 27,
   "metadata": {},
   "outputs": [
    {
     "data": {
      "text/plain": [
       "(15.832384963484028, 8.754758692620767)"
      ]
     },
     "execution_count": 27,
     "metadata": {},
     "output_type": "execute_result"
    }
   ],
   "source": [
    "df.waited_days[notshowed].mean() , df.waited_days[showed].mean()"
   ]
  },
  {
   "cell_type": "code",
   "execution_count": 28,
   "metadata": {},
   "outputs": [
    {
     "data": {
      "text/plain": [
       "7.077626270863261"
      ]
     },
     "execution_count": 28,
     "metadata": {},
     "output_type": "execute_result"
    }
   ],
   "source": [
    "df.waited_days[notshowed].mean() - df.waited_days[showed].mean()"
   ]
  },
  {
   "cell_type": "markdown",
   "metadata": {},
   "source": [
    "### Insight: \n",
    "From the insight above, people who didn't show up waited 7 days more for their appointment. "
   ]
  },
  {
   "cell_type": "markdown",
   "metadata": {},
   "source": [
    "For more details about the amount of waited days influencing the decision of showing up to the appointment, I have decided to draw a logistic regression and see if this last has something to say."
   ]
  },
  {
   "cell_type": "code",
   "execution_count": 29,
   "metadata": {},
   "outputs": [],
   "source": [
    "# We are going to replace the yes and no in no_show column to 1 and 0.\n",
    "df = df.replace({'no_show': {'Yes': 1, \n",
    "                                'No': 0}})"
   ]
  },
  {
   "cell_type": "code",
   "execution_count": 30,
   "metadata": {},
   "outputs": [
    {
     "data": {
      "text/plain": [
       "<AxesSubplot:xlabel='waited_days', ylabel='no_show'>"
      ]
     },
     "execution_count": 30,
     "metadata": {},
     "output_type": "execute_result"
    },
    {
     "data": {
      "image/png": "[encoded data removed]",
      "text/plain": [
       "<Figure size 432x288 with 1 Axes>"
      ]
     },
     "metadata": {
      "needs_background": "light"
     },
     "output_type": "display_data"
    }
   ],
   "source": [
    "#define the predictor variable and the response variable\n",
    "x = df['waited_days']\n",
    "y = df['no_show']\n",
    "\n",
    "#plot logistic regression curve\n",
    "sns.regplot(x=x, y=y, data=df, logistic=True, ci=None)"
   ]
  },
  {
   "cell_type": "markdown",
   "metadata": {},
   "source": [
    "### Insight: \n",
    "We can see clearly that the more days waited for the appointment the more the likelihood of missing it increases."
   ]
  },
  {
   "cell_type": "markdown",
   "metadata": {},
   "source": [
    "Above we notice there is a correlation between SMS received and waited days, let's see what the regression is saying.\n"
   ]
  },
  {
   "cell_type": "code",
   "execution_count": 31,
   "metadata": {},
   "outputs": [
    {
     "data": {
      "text/plain": [
       "<AxesSubplot:xlabel='waited_days', ylabel='SMS_received'>"
      ]
     },
     "execution_count": 31,
     "metadata": {},
     "output_type": "execute_result"
    },
    {
     "data": {
      "image/png": "[encoded data removed]",
      "text/plain": [
       "<Figure size 432x288 with 1 Axes>"
      ]
     },
     "metadata": {
      "needs_background": "light"
     },
     "output_type": "display_data"
    }
   ],
   "source": [
    "#define the predictor variable and the response variable\n",
    "x = df['waited_days']\n",
    "y = df['SMS_received']\n",
    "\n",
    "#plot logistic regression curve\n",
    "sns.regplot(x=x, y=y, data=df, logistic=True, ci=None)"
   ]
  },
  {
   "cell_type": "markdown",
   "metadata": {},
   "source": [
    "### Insight: \n",
    "We can see that the more days go on the more the likelihood of receiving a reminder about your appointment get higher until it hits a likelihood of 100% when for the appointments that have to wait more than 80 days."
   ]
  },
  {
   "cell_type": "markdown",
   "metadata": {},
   "source": [
    "### Question: Does the neighbourhood has an impact on respecting the appointement?"
   ]
  },
  {
   "cell_type": "code",
   "execution_count": 32,
   "metadata": {
    "scrolled": true
   },
   "outputs": [
    {
     "data": {
      "image/png": "[encoded data removed]",
      "text/plain": [
       "<Figure size 1008x576 with 1 Axes>"
      ]
     },
     "metadata": {
      "needs_background": "light"
     },
     "output_type": "display_data"
    }
   ],
   "source": [
    "plt.figure(figsize=[14,8])\n",
    "df.Neighbourhood[showed].value_counts().plot(kind='bar', color='yellow' ,label='showed')\n",
    "df.Neighbourhood[notshowed].value_counts().plot(kind='bar', color='blue' ,label='Notshowed')\n",
    "plt.legend()\n",
    "plt.title('comparison between showing up and the neighbourhood')\n",
    "plt.xlabel('neighbourhood')\n",
    "plt.ylabel('patients Number');"
   ]
  },
  {
   "cell_type": "markdown",
   "metadata": {},
   "source": [
    "#### Insight: \n",
    "well as we can see that the neighbourhood has an effect on attendance and people from jardum camburi are the most who respect there appointement."
   ]
  },
  {
   "cell_type": "markdown",
   "metadata": {},
   "source": [
    "<a id='conclusions'></a>\n",
    "## Conclusions\n",
    "\n",
    "To be honest, it's really hard to conclude something, because the data at first aren't telling that much and there is no significant correlation between the variables. Still, we can say that the waiting factor has something to do with missing the appointment so, maybe people who had an urgent case had to deal with it and see another option apart from the studied hospital.\n",
    "### Recommendation:\n",
    "I do highly recommend that the hospital try to invest more effort in following up on the 20% of no-show cases by calling them directly or by surveys."
   ]
  }
 ],
 "metadata": {
  "kernelspec": {
   "display_name": "Python 3",
   "language": "python",
   "name": "python3"
  },
  "language_info": {
   "codemirror_mode": {
    "name": "ipython",
    "version": 3
   },
   "file_extension": ".py",
   "mimetype": "text/x-python",
   "name": "python",
   "nbconvert_exporter": "python",
   "pygments_lexer": "ipython3",
   "version": "3.8.8"
  }
 },
 "nbformat": 4,
 "nbformat_minor": 2
}
