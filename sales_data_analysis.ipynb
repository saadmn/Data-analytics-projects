{
 "cells": [
  {
   "cell_type": "markdown",
   "id": "1565e859",
   "metadata": {},
   "source": [
    "# Store sales data analysis:\n"
   ]
  },
  {
   "cell_type": "markdown",
   "id": "1b6804e9",
   "metadata": {},
   "source": [
    "# Library uploading:\n",
    "#### We need first to upload the packages that we are going to work with in our data analysis process."
   ]
  },
  {
   "cell_type": "code",
   "execution_count": 1,
   "id": "903a30fa",
   "metadata": {},
   "outputs": [],
   "source": [
    "import pandas as pd\n",
    "import matplotlib.pyplot as plt\n",
    "import numpy as np\n",
    "\n"
   ]
  },
  {
   "cell_type": "markdown",
   "id": "903441ce",
   "metadata": {},
   "source": [
    "# Data gathering:"
   ]
  },
  {
   "cell_type": "code",
   "execution_count": 2,
   "id": "314eb3a9",
   "metadata": {},
   "outputs": [],
   "source": [
    "sales = pd.read_csv('sales_data.csv', sep=';')"
   ]
  },
  {
   "cell_type": "markdown",
   "id": "83fddca6",
   "metadata": {},
   "source": [
    "# Data assessing:\n",
    "#### We have to assess our data visually and programmatically for the aim of giving us a sense of the data and too check if there is a data quality or tidiness issues that need to be fixed."
   ]
  },
  {
   "cell_type": "code",
   "execution_count": 3,
   "id": "d7f6fd0d",
   "metadata": {},
   "outputs": [
    {
     "data": {
      "text/html": [
       "<div>\n",
       "<style scoped>\n",
       "    .dataframe tbody tr th:only-of-type {\n",
       "        vertical-align: middle;\n",
       "    }\n",
       "\n",
       "    .dataframe tbody tr th {\n",
       "        vertical-align: top;\n",
       "    }\n",
       "\n",
       "    .dataframe thead th {\n",
       "        text-align: right;\n",
       "    }\n",
       "</style>\n",
       "<table border=\"1\" class=\"dataframe\">\n",
       "  <thead>\n",
       "    <tr style=\"text-align: right;\">\n",
       "      <th></th>\n",
       "      <th>order_id</th>\n",
       "      <th>product</th>\n",
       "      <th>quantity</th>\n",
       "      <th>unit_price</th>\n",
       "      <th>date</th>\n",
       "      <th>shipping_adress</th>\n",
       "    </tr>\n",
       "  </thead>\n",
       "  <tbody>\n",
       "    <tr>\n",
       "      <th>0</th>\n",
       "      <td>176558</td>\n",
       "      <td>USB-C Charging Cable</td>\n",
       "      <td>2</td>\n",
       "      <td>11.95</td>\n",
       "      <td>04/19/19 08:46</td>\n",
       "      <td>917 1st St, Dallas, TX 75001</td>\n",
       "    </tr>\n",
       "    <tr>\n",
       "      <th>1</th>\n",
       "      <td>176559</td>\n",
       "      <td>Bose SoundSport Headphones</td>\n",
       "      <td>1</td>\n",
       "      <td>99.99</td>\n",
       "      <td>04/07/2019 22:30</td>\n",
       "      <td>682 Chestnut St, Boston, MA 02215</td>\n",
       "    </tr>\n",
       "    <tr>\n",
       "      <th>2</th>\n",
       "      <td>176560</td>\n",
       "      <td>Google Phone</td>\n",
       "      <td>1</td>\n",
       "      <td>600.00</td>\n",
       "      <td>04/12/2019 14:38</td>\n",
       "      <td>669 Spruce St, Los Angeles, CA 90001</td>\n",
       "    </tr>\n",
       "    <tr>\n",
       "      <th>3</th>\n",
       "      <td>176560</td>\n",
       "      <td>Wired Headphones</td>\n",
       "      <td>1</td>\n",
       "      <td>11.99</td>\n",
       "      <td>04/12/2019 14:38</td>\n",
       "      <td>669 Spruce St, Los Angeles, CA 90001</td>\n",
       "    </tr>\n",
       "    <tr>\n",
       "      <th>4</th>\n",
       "      <td>176561</td>\n",
       "      <td>Wired Headphones</td>\n",
       "      <td>1</td>\n",
       "      <td>11.99</td>\n",
       "      <td>04/30/19 09:27</td>\n",
       "      <td>333 8th St, Los Angeles, CA 90001</td>\n",
       "    </tr>\n",
       "  </tbody>\n",
       "</table>\n",
       "</div>"
      ],
      "text/plain": [
       "   order_id                     product  quantity  unit_price  \\\n",
       "0    176558        USB-C Charging Cable         2       11.95   \n",
       "1    176559  Bose SoundSport Headphones         1       99.99   \n",
       "2    176560                Google Phone         1      600.00   \n",
       "3    176560            Wired Headphones         1       11.99   \n",
       "4    176561            Wired Headphones         1       11.99   \n",
       "\n",
       "               date                       shipping_adress  \n",
       "0    04/19/19 08:46          917 1st St, Dallas, TX 75001  \n",
       "1  04/07/2019 22:30     682 Chestnut St, Boston, MA 02215  \n",
       "2  04/12/2019 14:38  669 Spruce St, Los Angeles, CA 90001  \n",
       "3  04/12/2019 14:38  669 Spruce St, Los Angeles, CA 90001  \n",
       "4    04/30/19 09:27     333 8th St, Los Angeles, CA 90001  "
      ]
     },
     "execution_count": 3,
     "metadata": {},
     "output_type": "execute_result"
    }
   ],
   "source": [
    "sales.head()"
   ]
  },
  {
   "cell_type": "code",
   "execution_count": 4,
   "id": "6a490a65",
   "metadata": {
    "scrolled": true
   },
   "outputs": [
    {
     "name": "stdout",
     "output_type": "stream",
     "text": [
      "<class 'pandas.core.frame.DataFrame'>\n",
      "RangeIndex: 185950 entries, 0 to 185949\n",
      "Data columns (total 6 columns):\n",
      " #   Column           Non-Null Count   Dtype  \n",
      "---  ------           --------------   -----  \n",
      " 0   order_id         185950 non-null  int64  \n",
      " 1   product          185950 non-null  object \n",
      " 2   quantity         185950 non-null  int64  \n",
      " 3   unit_price       185950 non-null  float64\n",
      " 4   date             185950 non-null  object \n",
      " 5   shipping_adress  185950 non-null  object \n",
      "dtypes: float64(1), int64(2), object(3)\n",
      "memory usage: 8.5+ MB\n"
     ]
    }
   ],
   "source": [
    "sales.info()"
   ]
  },
  {
   "cell_type": "code",
   "execution_count": 5,
   "id": "6d2065cc",
   "metadata": {},
   "outputs": [
    {
     "data": {
      "text/html": [
       "<div>\n",
       "<style scoped>\n",
       "    .dataframe tbody tr th:only-of-type {\n",
       "        vertical-align: middle;\n",
       "    }\n",
       "\n",
       "    .dataframe tbody tr th {\n",
       "        vertical-align: top;\n",
       "    }\n",
       "\n",
       "    .dataframe thead th {\n",
       "        text-align: right;\n",
       "    }\n",
       "</style>\n",
       "<table border=\"1\" class=\"dataframe\">\n",
       "  <thead>\n",
       "    <tr style=\"text-align: right;\">\n",
       "      <th></th>\n",
       "      <th>order_id</th>\n",
       "      <th>quantity</th>\n",
       "      <th>unit_price</th>\n",
       "    </tr>\n",
       "  </thead>\n",
       "  <tbody>\n",
       "    <tr>\n",
       "      <th>count</th>\n",
       "      <td>185950.000000</td>\n",
       "      <td>185950.000000</td>\n",
       "      <td>185950.000000</td>\n",
       "    </tr>\n",
       "    <tr>\n",
       "      <th>mean</th>\n",
       "      <td>230417.569379</td>\n",
       "      <td>1.124383</td>\n",
       "      <td>184.399735</td>\n",
       "    </tr>\n",
       "    <tr>\n",
       "      <th>std</th>\n",
       "      <td>51512.737110</td>\n",
       "      <td>0.442793</td>\n",
       "      <td>332.731330</td>\n",
       "    </tr>\n",
       "    <tr>\n",
       "      <th>min</th>\n",
       "      <td>141234.000000</td>\n",
       "      <td>1.000000</td>\n",
       "      <td>2.990000</td>\n",
       "    </tr>\n",
       "    <tr>\n",
       "      <th>25%</th>\n",
       "      <td>185831.250000</td>\n",
       "      <td>1.000000</td>\n",
       "      <td>11.950000</td>\n",
       "    </tr>\n",
       "    <tr>\n",
       "      <th>50%</th>\n",
       "      <td>230367.500000</td>\n",
       "      <td>1.000000</td>\n",
       "      <td>14.950000</td>\n",
       "    </tr>\n",
       "    <tr>\n",
       "      <th>75%</th>\n",
       "      <td>275035.750000</td>\n",
       "      <td>1.000000</td>\n",
       "      <td>150.000000</td>\n",
       "    </tr>\n",
       "    <tr>\n",
       "      <th>max</th>\n",
       "      <td>319670.000000</td>\n",
       "      <td>9.000000</td>\n",
       "      <td>1700.000000</td>\n",
       "    </tr>\n",
       "  </tbody>\n",
       "</table>\n",
       "</div>"
      ],
      "text/plain": [
       "            order_id       quantity     unit_price\n",
       "count  185950.000000  185950.000000  185950.000000\n",
       "mean   230417.569379       1.124383     184.399735\n",
       "std     51512.737110       0.442793     332.731330\n",
       "min    141234.000000       1.000000       2.990000\n",
       "25%    185831.250000       1.000000      11.950000\n",
       "50%    230367.500000       1.000000      14.950000\n",
       "75%    275035.750000       1.000000     150.000000\n",
       "max    319670.000000       9.000000    1700.000000"
      ]
     },
     "execution_count": 5,
     "metadata": {},
     "output_type": "execute_result"
    }
   ],
   "source": [
    "sales.describe()"
   ]
  },
  {
   "cell_type": "code",
   "execution_count": 6,
   "id": "e6e35886",
   "metadata": {},
   "outputs": [
    {
     "data": {
      "text/html": [
       "<div>\n",
       "<style scoped>\n",
       "    .dataframe tbody tr th:only-of-type {\n",
       "        vertical-align: middle;\n",
       "    }\n",
       "\n",
       "    .dataframe tbody tr th {\n",
       "        vertical-align: top;\n",
       "    }\n",
       "\n",
       "    .dataframe thead th {\n",
       "        text-align: right;\n",
       "    }\n",
       "</style>\n",
       "<table border=\"1\" class=\"dataframe\">\n",
       "  <thead>\n",
       "    <tr style=\"text-align: right;\">\n",
       "      <th></th>\n",
       "      <th>order_id</th>\n",
       "      <th>product</th>\n",
       "      <th>quantity</th>\n",
       "      <th>unit_price</th>\n",
       "      <th>date</th>\n",
       "      <th>shipping_adress</th>\n",
       "    </tr>\n",
       "  </thead>\n",
       "  <tbody>\n",
       "    <tr>\n",
       "      <th>815</th>\n",
       "      <td>177337</td>\n",
       "      <td>AAA Batteries (4-pack)</td>\n",
       "      <td>1</td>\n",
       "      <td>2.99</td>\n",
       "      <td>04/15/19 18:17</td>\n",
       "      <td>975 Sunset St, Seattle, WA 98101</td>\n",
       "    </tr>\n",
       "    <tr>\n",
       "      <th>182863</th>\n",
       "      <td>256376</td>\n",
       "      <td>27in FHD Monitor</td>\n",
       "      <td>1</td>\n",
       "      <td>149.99</td>\n",
       "      <td>09/16/19 10:46</td>\n",
       "      <td>231 5th St, Los Angeles, CA 90001</td>\n",
       "    </tr>\n",
       "    <tr>\n",
       "      <th>22705</th>\n",
       "      <td>240927</td>\n",
       "      <td>AA Batteries (4-pack)</td>\n",
       "      <td>2</td>\n",
       "      <td>3.84</td>\n",
       "      <td>08/13/19 22:33</td>\n",
       "      <td>856 Elm St, New York City, NY 10001</td>\n",
       "    </tr>\n",
       "    <tr>\n",
       "      <th>78765</th>\n",
       "      <td>224715</td>\n",
       "      <td>Macbook Pro Laptop</td>\n",
       "      <td>1</td>\n",
       "      <td>1700.00</td>\n",
       "      <td>07/11/2019 22:04</td>\n",
       "      <td>706 2nd St, Portland, OR 97035</td>\n",
       "    </tr>\n",
       "    <tr>\n",
       "      <th>30550</th>\n",
       "      <td>295950</td>\n",
       "      <td>AA Batteries (4-pack)</td>\n",
       "      <td>1</td>\n",
       "      <td>3.84</td>\n",
       "      <td>12/31/19 09:15</td>\n",
       "      <td>789 14th St, Boston, MA 02215</td>\n",
       "    </tr>\n",
       "    <tr>\n",
       "      <th>79145</th>\n",
       "      <td>225080</td>\n",
       "      <td>iPhone</td>\n",
       "      <td>1</td>\n",
       "      <td>700.00</td>\n",
       "      <td>07/17/19 19:21</td>\n",
       "      <td>520 Park St, Los Angeles, CA 90001</td>\n",
       "    </tr>\n",
       "    <tr>\n",
       "      <th>87717</th>\n",
       "      <td>233320</td>\n",
       "      <td>34in Ultrawide Monitor</td>\n",
       "      <td>1</td>\n",
       "      <td>379.99</td>\n",
       "      <td>07/17/19 20:48</td>\n",
       "      <td>323 Main St, Los Angeles, CA 90001</td>\n",
       "    </tr>\n",
       "    <tr>\n",
       "      <th>52882</th>\n",
       "      <td>317399</td>\n",
       "      <td>20in Monitor</td>\n",
       "      <td>1</td>\n",
       "      <td>109.99</td>\n",
       "      <td>12/29/19 16:48</td>\n",
       "      <td>215 Ridge St, Portland, OR 97035</td>\n",
       "    </tr>\n",
       "    <tr>\n",
       "      <th>67002</th>\n",
       "      <td>161800</td>\n",
       "      <td>20in Monitor</td>\n",
       "      <td>1</td>\n",
       "      <td>109.99</td>\n",
       "      <td>02/28/19 09:21</td>\n",
       "      <td>572 12th St, New York City, NY 10001</td>\n",
       "    </tr>\n",
       "    <tr>\n",
       "      <th>130296</th>\n",
       "      <td>204012</td>\n",
       "      <td>Wired Headphones</td>\n",
       "      <td>1</td>\n",
       "      <td>11.99</td>\n",
       "      <td>05/14/19 08:19</td>\n",
       "      <td>511 Highland St, New York City, NY 10001</td>\n",
       "    </tr>\n",
       "    <tr>\n",
       "      <th>62473</th>\n",
       "      <td>157431</td>\n",
       "      <td>27in FHD Monitor</td>\n",
       "      <td>1</td>\n",
       "      <td>149.99</td>\n",
       "      <td>02/12/2019 08:41</td>\n",
       "      <td>578 Washington St, Boston, MA 02215</td>\n",
       "    </tr>\n",
       "    <tr>\n",
       "      <th>50332</th>\n",
       "      <td>314955</td>\n",
       "      <td>AAA Batteries (4-pack)</td>\n",
       "      <td>1</td>\n",
       "      <td>2.99</td>\n",
       "      <td>12/15/19 21:16</td>\n",
       "      <td>21 Johnson St, New York City, NY 10001</td>\n",
       "    </tr>\n",
       "    <tr>\n",
       "      <th>77914</th>\n",
       "      <td>223886</td>\n",
       "      <td>AA Batteries (4-pack)</td>\n",
       "      <td>1</td>\n",
       "      <td>3.84</td>\n",
       "      <td>07/10/2019 15:24</td>\n",
       "      <td>412 Meadow St, Seattle, WA 98101</td>\n",
       "    </tr>\n",
       "    <tr>\n",
       "      <th>107356</th>\n",
       "      <td>164503</td>\n",
       "      <td>Lightning Charging Cable</td>\n",
       "      <td>1</td>\n",
       "      <td>14.95</td>\n",
       "      <td>03/06/2019 20:02</td>\n",
       "      <td>664 North St, San Francisco, CA 94016</td>\n",
       "    </tr>\n",
       "    <tr>\n",
       "      <th>165441</th>\n",
       "      <td>270293</td>\n",
       "      <td>Wired Headphones</td>\n",
       "      <td>1</td>\n",
       "      <td>11.99</td>\n",
       "      <td>10/18/19 01:52</td>\n",
       "      <td>851 Hill St, New York City, NY 10001</td>\n",
       "    </tr>\n",
       "    <tr>\n",
       "      <th>142396</th>\n",
       "      <td>284501</td>\n",
       "      <td>USB-C Charging Cable</td>\n",
       "      <td>1</td>\n",
       "      <td>11.95</td>\n",
       "      <td>11/15/19 18:51</td>\n",
       "      <td>926 11th St, Dallas, TX 75001</td>\n",
       "    </tr>\n",
       "    <tr>\n",
       "      <th>26491</th>\n",
       "      <td>244554</td>\n",
       "      <td>LG Washing Machine</td>\n",
       "      <td>1</td>\n",
       "      <td>600.00</td>\n",
       "      <td>08/20/19 14:25</td>\n",
       "      <td>550 4th St, Portland, ME 04101</td>\n",
       "    </tr>\n",
       "    <tr>\n",
       "      <th>119621</th>\n",
       "      <td>176285</td>\n",
       "      <td>AA Batteries (4-pack)</td>\n",
       "      <td>1</td>\n",
       "      <td>3.84</td>\n",
       "      <td>03/20/19 20:30</td>\n",
       "      <td>966 North St, Seattle, WA 98101</td>\n",
       "    </tr>\n",
       "    <tr>\n",
       "      <th>48222</th>\n",
       "      <td>312926</td>\n",
       "      <td>Lightning Charging Cable</td>\n",
       "      <td>2</td>\n",
       "      <td>14.95</td>\n",
       "      <td>12/27/19 19:26</td>\n",
       "      <td>352 10th St, Los Angeles, CA 90001</td>\n",
       "    </tr>\n",
       "    <tr>\n",
       "      <th>88109</th>\n",
       "      <td>233697</td>\n",
       "      <td>Wired Headphones</td>\n",
       "      <td>1</td>\n",
       "      <td>11.99</td>\n",
       "      <td>07/01/2019 20:15</td>\n",
       "      <td>462 Washington St, New York City, NY 10001</td>\n",
       "    </tr>\n",
       "  </tbody>\n",
       "</table>\n",
       "</div>"
      ],
      "text/plain": [
       "        order_id                   product  quantity  unit_price  \\\n",
       "815       177337    AAA Batteries (4-pack)         1        2.99   \n",
       "182863    256376          27in FHD Monitor         1      149.99   \n",
       "22705     240927     AA Batteries (4-pack)         2        3.84   \n",
       "78765     224715        Macbook Pro Laptop         1     1700.00   \n",
       "30550     295950     AA Batteries (4-pack)         1        3.84   \n",
       "79145     225080                    iPhone         1      700.00   \n",
       "87717     233320    34in Ultrawide Monitor         1      379.99   \n",
       "52882     317399              20in Monitor         1      109.99   \n",
       "67002     161800              20in Monitor         1      109.99   \n",
       "130296    204012          Wired Headphones         1       11.99   \n",
       "62473     157431          27in FHD Monitor         1      149.99   \n",
       "50332     314955    AAA Batteries (4-pack)         1        2.99   \n",
       "77914     223886     AA Batteries (4-pack)         1        3.84   \n",
       "107356    164503  Lightning Charging Cable         1       14.95   \n",
       "165441    270293          Wired Headphones         1       11.99   \n",
       "142396    284501      USB-C Charging Cable         1       11.95   \n",
       "26491     244554        LG Washing Machine         1      600.00   \n",
       "119621    176285     AA Batteries (4-pack)         1        3.84   \n",
       "48222     312926  Lightning Charging Cable         2       14.95   \n",
       "88109     233697          Wired Headphones         1       11.99   \n",
       "\n",
       "                    date                             shipping_adress  \n",
       "815       04/15/19 18:17            975 Sunset St, Seattle, WA 98101  \n",
       "182863    09/16/19 10:46           231 5th St, Los Angeles, CA 90001  \n",
       "22705     08/13/19 22:33         856 Elm St, New York City, NY 10001  \n",
       "78765   07/11/2019 22:04              706 2nd St, Portland, OR 97035  \n",
       "30550     12/31/19 09:15               789 14th St, Boston, MA 02215  \n",
       "79145     07/17/19 19:21          520 Park St, Los Angeles, CA 90001  \n",
       "87717     07/17/19 20:48          323 Main St, Los Angeles, CA 90001  \n",
       "52882     12/29/19 16:48            215 Ridge St, Portland, OR 97035  \n",
       "67002     02/28/19 09:21        572 12th St, New York City, NY 10001  \n",
       "130296    05/14/19 08:19    511 Highland St, New York City, NY 10001  \n",
       "62473   02/12/2019 08:41         578 Washington St, Boston, MA 02215  \n",
       "50332     12/15/19 21:16      21 Johnson St, New York City, NY 10001  \n",
       "77914   07/10/2019 15:24            412 Meadow St, Seattle, WA 98101  \n",
       "107356  03/06/2019 20:02       664 North St, San Francisco, CA 94016  \n",
       "165441    10/18/19 01:52        851 Hill St, New York City, NY 10001  \n",
       "142396    11/15/19 18:51               926 11th St, Dallas, TX 75001  \n",
       "26491     08/20/19 14:25              550 4th St, Portland, ME 04101  \n",
       "119621    03/20/19 20:30             966 North St, Seattle, WA 98101  \n",
       "48222     12/27/19 19:26          352 10th St, Los Angeles, CA 90001  \n",
       "88109   07/01/2019 20:15  462 Washington St, New York City, NY 10001  "
      ]
     },
     "execution_count": 6,
     "metadata": {},
     "output_type": "execute_result"
    }
   ],
   "source": [
    "sales.sample(20)"
   ]
  },
  {
   "cell_type": "code",
   "execution_count": 7,
   "id": "ee87c55c",
   "metadata": {},
   "outputs": [
    {
     "data": {
      "text/plain": [
       "264"
      ]
     },
     "execution_count": 7,
     "metadata": {},
     "output_type": "execute_result"
    }
   ],
   "source": [
    "sales.duplicated().sum()"
   ]
  },
  {
   "cell_type": "markdown",
   "id": "29125fc9",
   "metadata": {},
   "source": [
    "## Quality issues:\n",
    "### 1. Date column type has to be datetime not object.\n",
    "### 2. There is some duplicated rows that need to be dropped.\n",
    "## Data augmenting:\n",
    "### 1. Get new columns (day, month, hour) for each row form the date column.\n",
    "### 2. Get an order value column by multiplaying the quantity by the unite price.\n",
    "### 3. Get the city column from the shipping adress.\n"
   ]
  },
  {
   "cell_type": "markdown",
   "id": "70350045",
   "metadata": {},
   "source": [
    "# Data processing:\n",
    "## Quality issues:\n",
    "### 1. Date column type has to be datetime not object.\n",
    "#### Code:"
   ]
  },
  {
   "cell_type": "code",
   "execution_count": 8,
   "id": "a89902ea",
   "metadata": {},
   "outputs": [],
   "source": [
    "sales['date'] = pd.to_datetime(sales.date) "
   ]
  },
  {
   "cell_type": "markdown",
   "id": "505f69ff",
   "metadata": {},
   "source": [
    "#### Test: "
   ]
  },
  {
   "cell_type": "code",
   "execution_count": 9,
   "id": "47906d2f",
   "metadata": {},
   "outputs": [
    {
     "data": {
      "text/plain": [
       "order_id                    int64\n",
       "product                    object\n",
       "quantity                    int64\n",
       "unit_price                float64\n",
       "date               datetime64[ns]\n",
       "shipping_adress            object\n",
       "dtype: object"
      ]
     },
     "execution_count": 9,
     "metadata": {},
     "output_type": "execute_result"
    }
   ],
   "source": [
    "sales.dtypes"
   ]
  },
  {
   "cell_type": "markdown",
   "id": "7b4d6dd8",
   "metadata": {},
   "source": [
    "### 2. There is some duplicated rows that need to be dropped.\n",
    "#### Code:"
   ]
  },
  {
   "cell_type": "code",
   "execution_count": 10,
   "id": "e9117c81",
   "metadata": {},
   "outputs": [],
   "source": [
    "sales.drop_duplicates(subset=None, keep=\"first\", inplace=True)"
   ]
  },
  {
   "cell_type": "markdown",
   "id": "d1e4de3f",
   "metadata": {},
   "source": [
    "#### Test:"
   ]
  },
  {
   "cell_type": "code",
   "execution_count": 11,
   "id": "c52aaf90",
   "metadata": {},
   "outputs": [
    {
     "data": {
      "text/plain": [
       "0"
      ]
     },
     "execution_count": 11,
     "metadata": {},
     "output_type": "execute_result"
    }
   ],
   "source": [
    "sales.duplicated().sum()"
   ]
  },
  {
   "cell_type": "markdown",
   "id": "9d268ddc",
   "metadata": {},
   "source": [
    "## Data augmenting:\n",
    "### 1. Get new columns (day, month, hour) for each row form the date column.\n",
    "#### Code:"
   ]
  },
  {
   "cell_type": "code",
   "execution_count": 12,
   "id": "45daa488",
   "metadata": {},
   "outputs": [],
   "source": [
    "sales['month'] = sales.date.dt.month\n"
   ]
  },
  {
   "cell_type": "code",
   "execution_count": 13,
   "id": "7dd91e70",
   "metadata": {},
   "outputs": [],
   "source": [
    "sales['day'] = sales['date'].dt.day_name()\n"
   ]
  },
  {
   "cell_type": "code",
   "execution_count": 14,
   "id": "afe26bbf",
   "metadata": {},
   "outputs": [],
   "source": [
    "sales['hour'] = sales.date.dt.hour\n"
   ]
  },
  {
   "cell_type": "markdown",
   "id": "bddd1ab5",
   "metadata": {},
   "source": [
    "#### Test:"
   ]
  },
  {
   "cell_type": "code",
   "execution_count": 15,
   "id": "6eb04085",
   "metadata": {},
   "outputs": [
    {
     "data": {
      "text/html": [
       "<div>\n",
       "<style scoped>\n",
       "    .dataframe tbody tr th:only-of-type {\n",
       "        vertical-align: middle;\n",
       "    }\n",
       "\n",
       "    .dataframe tbody tr th {\n",
       "        vertical-align: top;\n",
       "    }\n",
       "\n",
       "    .dataframe thead th {\n",
       "        text-align: right;\n",
       "    }\n",
       "</style>\n",
       "<table border=\"1\" class=\"dataframe\">\n",
       "  <thead>\n",
       "    <tr style=\"text-align: right;\">\n",
       "      <th></th>\n",
       "      <th>order_id</th>\n",
       "      <th>product</th>\n",
       "      <th>quantity</th>\n",
       "      <th>unit_price</th>\n",
       "      <th>date</th>\n",
       "      <th>shipping_adress</th>\n",
       "      <th>month</th>\n",
       "      <th>day</th>\n",
       "      <th>hour</th>\n",
       "    </tr>\n",
       "  </thead>\n",
       "  <tbody>\n",
       "    <tr>\n",
       "      <th>0</th>\n",
       "      <td>176558</td>\n",
       "      <td>USB-C Charging Cable</td>\n",
       "      <td>2</td>\n",
       "      <td>11.95</td>\n",
       "      <td>2019-04-19 08:46:00</td>\n",
       "      <td>917 1st St, Dallas, TX 75001</td>\n",
       "      <td>4</td>\n",
       "      <td>Friday</td>\n",
       "      <td>8</td>\n",
       "    </tr>\n",
       "  </tbody>\n",
       "</table>\n",
       "</div>"
      ],
      "text/plain": [
       "   order_id               product  quantity  unit_price                date  \\\n",
       "0    176558  USB-C Charging Cable         2       11.95 2019-04-19 08:46:00   \n",
       "\n",
       "                shipping_adress  month     day  hour  \n",
       "0  917 1st St, Dallas, TX 75001      4  Friday     8  "
      ]
     },
     "execution_count": 15,
     "metadata": {},
     "output_type": "execute_result"
    }
   ],
   "source": [
    "sales.head(1)"
   ]
  },
  {
   "cell_type": "markdown",
   "id": "426d3e77",
   "metadata": {},
   "source": [
    "### 2. Get an order value column by multiplaying the quantity by the unite price.\n",
    "#### Code:\n"
   ]
  },
  {
   "cell_type": "code",
   "execution_count": 16,
   "id": "412092e8",
   "metadata": {},
   "outputs": [],
   "source": [
    "sales['order_value'] = sales['quantity'].astype('int') * sales['unit_price'].astype('float')\n"
   ]
  },
  {
   "cell_type": "code",
   "execution_count": 17,
   "id": "4b5a1b4e",
   "metadata": {},
   "outputs": [
    {
     "data": {
      "text/html": [
       "<div>\n",
       "<style scoped>\n",
       "    .dataframe tbody tr th:only-of-type {\n",
       "        vertical-align: middle;\n",
       "    }\n",
       "\n",
       "    .dataframe tbody tr th {\n",
       "        vertical-align: top;\n",
       "    }\n",
       "\n",
       "    .dataframe thead th {\n",
       "        text-align: right;\n",
       "    }\n",
       "</style>\n",
       "<table border=\"1\" class=\"dataframe\">\n",
       "  <thead>\n",
       "    <tr style=\"text-align: right;\">\n",
       "      <th></th>\n",
       "      <th>order_id</th>\n",
       "      <th>product</th>\n",
       "      <th>quantity</th>\n",
       "      <th>unit_price</th>\n",
       "      <th>date</th>\n",
       "      <th>shipping_adress</th>\n",
       "      <th>month</th>\n",
       "      <th>day</th>\n",
       "      <th>hour</th>\n",
       "      <th>order_value</th>\n",
       "    </tr>\n",
       "  </thead>\n",
       "  <tbody>\n",
       "    <tr>\n",
       "      <th>0</th>\n",
       "      <td>176558</td>\n",
       "      <td>USB-C Charging Cable</td>\n",
       "      <td>2</td>\n",
       "      <td>11.95</td>\n",
       "      <td>2019-04-19 08:46:00</td>\n",
       "      <td>917 1st St, Dallas, TX 75001</td>\n",
       "      <td>4</td>\n",
       "      <td>Friday</td>\n",
       "      <td>8</td>\n",
       "      <td>23.9</td>\n",
       "    </tr>\n",
       "  </tbody>\n",
       "</table>\n",
       "</div>"
      ],
      "text/plain": [
       "   order_id               product  quantity  unit_price                date  \\\n",
       "0    176558  USB-C Charging Cable         2       11.95 2019-04-19 08:46:00   \n",
       "\n",
       "                shipping_adress  month     day  hour  order_value  \n",
       "0  917 1st St, Dallas, TX 75001      4  Friday     8         23.9  "
      ]
     },
     "execution_count": 17,
     "metadata": {},
     "output_type": "execute_result"
    }
   ],
   "source": [
    "sales.head(1)"
   ]
  },
  {
   "cell_type": "markdown",
   "id": "b8eb36d5",
   "metadata": {},
   "source": [
    "### 3. Get the city column from the shipping adress.\n",
    "#### Define:\n",
    "Well here things could be more easier in term of getting the city name from the shipping adress column but we needed too the state matched with the city name for better distanguing between cities that has the same name but in diffrent states. \n",
    "#### Code:"
   ]
  },
  {
   "cell_type": "code",
   "execution_count": 18,
   "id": "d9873643",
   "metadata": {},
   "outputs": [],
   "source": [
    "def get_city(address):\n",
    "    return address.split(\",\")[1].strip(\" \")\n",
    "\n",
    "def get_state(address):\n",
    "    return address.split(\",\")[2].split(\" \")[1]\n",
    "\n",
    "sales['City'] = sales['shipping_adress'].apply(lambda x: f\"{get_city(x)}  ({get_state(x)})\")\n"
   ]
  },
  {
   "cell_type": "markdown",
   "id": "5d173114",
   "metadata": {},
   "source": [
    "#### Test:"
   ]
  },
  {
   "cell_type": "code",
   "execution_count": 19,
   "id": "2bcbeb33",
   "metadata": {},
   "outputs": [
    {
     "data": {
      "text/html": [
       "<div>\n",
       "<style scoped>\n",
       "    .dataframe tbody tr th:only-of-type {\n",
       "        vertical-align: middle;\n",
       "    }\n",
       "\n",
       "    .dataframe tbody tr th {\n",
       "        vertical-align: top;\n",
       "    }\n",
       "\n",
       "    .dataframe thead th {\n",
       "        text-align: right;\n",
       "    }\n",
       "</style>\n",
       "<table border=\"1\" class=\"dataframe\">\n",
       "  <thead>\n",
       "    <tr style=\"text-align: right;\">\n",
       "      <th></th>\n",
       "      <th>order_id</th>\n",
       "      <th>product</th>\n",
       "      <th>quantity</th>\n",
       "      <th>unit_price</th>\n",
       "      <th>date</th>\n",
       "      <th>shipping_adress</th>\n",
       "      <th>month</th>\n",
       "      <th>day</th>\n",
       "      <th>hour</th>\n",
       "      <th>order_value</th>\n",
       "      <th>City</th>\n",
       "    </tr>\n",
       "  </thead>\n",
       "  <tbody>\n",
       "    <tr>\n",
       "      <th>0</th>\n",
       "      <td>176558</td>\n",
       "      <td>USB-C Charging Cable</td>\n",
       "      <td>2</td>\n",
       "      <td>11.95</td>\n",
       "      <td>2019-04-19 08:46:00</td>\n",
       "      <td>917 1st St, Dallas, TX 75001</td>\n",
       "      <td>4</td>\n",
       "      <td>Friday</td>\n",
       "      <td>8</td>\n",
       "      <td>23.9</td>\n",
       "      <td>Dallas  (TX)</td>\n",
       "    </tr>\n",
       "  </tbody>\n",
       "</table>\n",
       "</div>"
      ],
      "text/plain": [
       "   order_id               product  quantity  unit_price                date  \\\n",
       "0    176558  USB-C Charging Cable         2       11.95 2019-04-19 08:46:00   \n",
       "\n",
       "                shipping_adress  month     day  hour  order_value  \\\n",
       "0  917 1st St, Dallas, TX 75001      4  Friday     8         23.9   \n",
       "\n",
       "           City  \n",
       "0  Dallas  (TX)  "
      ]
     },
     "execution_count": 19,
     "metadata": {},
     "output_type": "execute_result"
    }
   ],
   "source": [
    "sales.head(1)"
   ]
  },
  {
   "cell_type": "markdown",
   "id": "d7bd1013",
   "metadata": {},
   "source": [
    "## Data storing:"
   ]
  },
  {
   "cell_type": "code",
   "execution_count": 20,
   "id": "f908903f",
   "metadata": {},
   "outputs": [],
   "source": [
    "sales.to_csv('sales_clean_data.csv')"
   ]
  },
  {
   "cell_type": "markdown",
   "id": "a3186602",
   "metadata": {},
   "source": [
    "## Analyzing and Visualizing Data:\n"
   ]
  },
  {
   "cell_type": "markdown",
   "id": "f6dae177",
   "metadata": {},
   "source": [
    "### Question 1: Which city has the best sales?\n",
    "#### Code:"
   ]
  },
  {
   "cell_type": "code",
   "execution_count": 21,
   "id": "9f4c31c9",
   "metadata": {},
   "outputs": [
    {
     "data": {
      "image/png": "[encoded data removed]",
      "text/plain": [
       "<Figure size 432x288 with 1 Axes>"
      ]
     },
     "metadata": {
      "needs_background": "light"
     },
     "output_type": "display_data"
    }
   ],
   "source": [
    "key = [city for city, df in sales.groupby(['City'])]\n",
    "plt.bar(key,sales.groupby(['City']).sum()['order_value'])\n",
    "plt.xticks(key, rotation='vertical', size=8)\n",
    "plt.title(\"Top cities in terme of sales in 2019\")\n",
    "plt.ylabel('Sales in millions of dollars')\n",
    "plt.xlabel('City name')\n",
    "plt.show()"
   ]
  },
  {
   "cell_type": "markdown",
   "id": "0e9e23bb",
   "metadata": {},
   "source": [
    "### Interpretation: \n",
    "We notice that San Fransisco is by far the best selling city in term of electronic goods in 2019 and that's is explainable by the fact of the city is capitale of technology and innovation."
   ]
  },
  {
   "cell_type": "markdown",
   "id": "f4ea9181",
   "metadata": {},
   "source": [
    "### Question 2: Which month has the best sales?\n",
    "#### Code:"
   ]
  },
  {
   "cell_type": "code",
   "execution_count": 22,
   "id": "4d372465",
   "metadata": {},
   "outputs": [
    {
     "data": {
      "image/png": "[encoded data removed]",
      "text/plain": [
       "<Figure size 432x288 with 1 Axes>"
      ]
     },
     "metadata": {
      "needs_background": "light"
     },
     "output_type": "display_data"
    }
   ],
   "source": [
    "key = [months for months, df in sales.groupby(['month'])]\n",
    "plt.bar(key,sales.groupby(['month']).sum()['order_value'])\n",
    "plt.xticks(key, rotation='vertical')\n",
    "plt.title(\"Top month in terme of sales in 2019\")\n",
    "plt.ylabel('Sales in millions of dollars')\n",
    "plt.xlabel('Month number')\n",
    "plt.show()"
   ]
  },
  {
   "cell_type": "markdown",
   "id": "833aa407",
   "metadata": {},
   "source": [
    "### Interpretation:  \n",
    "\n",
    "We notice that there is a spike in sales starting November, I believe this spike is because of the sales offers on the Black Friday occasion plus the Cyber Monday as well that is dedicated to just electronic goods, then the best selling month is December and that's because the technology gets old so it needs a destocking politic in order to make room for the next generation of the same item."
   ]
  },
  {
   "cell_type": "markdown",
   "id": "f5c06397",
   "metadata": {},
   "source": [
    "### Question 3: Which hour of the day has the best sales?\n",
    "#### Code:"
   ]
  },
  {
   "cell_type": "code",
   "execution_count": 23,
   "id": "c1a10d36",
   "metadata": {},
   "outputs": [
    {
     "data": {
      "image/png": "[encoded data removed]",
      "text/plain": [
       "<Figure size 432x288 with 1 Axes>"
      ]
     },
     "metadata": {
      "needs_background": "light"
     },
     "output_type": "display_data"
    }
   ],
   "source": [
    "key = [hours for hours, df in sales.groupby(['hour'])]\n",
    "plt.plot(key,sales.groupby(['hour']).sum()['order_value'])\n",
    "plt.xticks(key, rotation='vertical')\n",
    "plt.title(\"Top hours in the day in terme of sales in 2019\")\n",
    "plt.ylabel('Sales in millions of dollars')\n",
    "plt.xlabel('Hour of the day')\n",
    "plt.grid()\n",
    "plt.show()"
   ]
  },
  {
   "cell_type": "markdown",
   "id": "399e1e3e",
   "metadata": {},
   "source": [
    "### Interpretation: \n",
    "We see that the best part of the day in terms of sales is between 11 am and 12 pm, also 19 pm, we can use this information in our marketing campaign the way that could direct our advertising time display."
   ]
  },
  {
   "cell_type": "markdown",
   "id": "cda0aa73",
   "metadata": {},
   "source": [
    "### Question 4: Which products have the best sales?\n",
    "#### Code:"
   ]
  },
  {
   "cell_type": "code",
   "execution_count": 24,
   "id": "09b9319f",
   "metadata": {},
   "outputs": [
    {
     "data": {
      "image/png": "[encoded data removed]",
      "text/plain": [
       "<Figure size 432x288 with 1 Axes>"
      ]
     },
     "metadata": {
      "needs_background": "light"
     },
     "output_type": "display_data"
    }
   ],
   "source": [
    "key = [products for products, df in sales.groupby(['product'])]\n",
    "plt.bar(key,sales.groupby(['product']).sum()['quantity'])\n",
    "plt.xticks(key, rotation='vertical')\n",
    "plt.title(\"Top products in terme of sales in 2019\")\n",
    "plt.ylabel('Quantity')\n",
    "plt.xlabel('Product name')\n",
    "plt.show()"
   ]
  },
  {
   "cell_type": "markdown",
   "id": "6bcd09a4",
   "metadata": {},
   "source": [
    "### Interpretation: \n",
    "Well, the first thought I had when I saw this graph is these good-selling gadgets are cheap so, let's see in the next code validity of this assumption.\n"
   ]
  },
  {
   "cell_type": "markdown",
   "id": "5318437f",
   "metadata": {},
   "source": [
    "#### Code:"
   ]
  },
  {
   "cell_type": "code",
   "execution_count": 32,
   "id": "ebb41cbc",
   "metadata": {},
   "outputs": [
    {
     "name": "stderr",
     "output_type": "stream",
     "text": [
      "<ipython-input-32-a6ca232b394e>:14: UserWarning: FixedFormatter should only be used together with FixedLocator\n",
      "  ax1.set_xticklabels(key, rotation='vertical', size=8)\n",
      "<ipython-input-32-a6ca232b394e>:16: UserWarning: Matplotlib is currently using module://ipykernel.pylab.backend_inline, which is a non-GUI backend, so cannot show the figure.\n",
      "  fig.show()\n"
     ]
    },
    {
     "data": {
      "image/png": "[encoded data removed]",
      "text/plain": [
       "<Figure size 432x288 with 2 Axes>"
      ]
     },
     "metadata": {
      "needs_background": "light"
     },
     "output_type": "display_data"
    }
   ],
   "source": [
    "key = [products for products, df in sales.groupby(['product'])]\n",
    "prices = sales.groupby('product').mean()['unit_price']\n",
    "quantity_oredred = sales.groupby('product').sum()['quantity']\n",
    "fig, ax1 = plt.subplots()\n",
    "       \n",
    "ax2 = ax1.twinx()\n",
    "\n",
    "ax1.bar(key,quantity_oredred, color='g')\n",
    "ax2.plot(key, prices, color='b')\n",
    "plt.title(\"Top products in terme of sales versus there price in 2019\")      \n",
    "ax1.set_xlabel('Product Name')\n",
    "ax1.set_ylabel('Quantity Ordered', color='g')\n",
    "ax2.set_ylabel('Price ($)', color='b')\n",
    "ax1.set_xticklabels(key, rotation='vertical', size=8)\n",
    "\n",
    "fig.show()"
   ]
  },
  {
   "cell_type": "markdown",
   "id": "ee66de2c",
   "metadata": {},
   "source": [
    "### Interpretation:  \n",
    "I think now we can see clearly the correlation between price and product sales."
   ]
  },
  {
   "cell_type": "markdown",
   "id": "6403ba45",
   "metadata": {},
   "source": [
    "### Question 5: Which products are sold together? \n",
    "#### Code:"
   ]
  },
  {
   "cell_type": "code",
   "execution_count": 26,
   "id": "5834ad4b",
   "metadata": {},
   "outputs": [],
   "source": [
    "cart = sales[sales['order_id'].duplicated(keep=False)]"
   ]
  },
  {
   "cell_type": "code",
   "execution_count": 27,
   "id": "740b635d",
   "metadata": {},
   "outputs": [
    {
     "name": "stderr",
     "output_type": "stream",
     "text": [
      "<ipython-input-27-4b7e3559addc>:1: SettingWithCopyWarning: \n",
      "A value is trying to be set on a copy of a slice from a DataFrame.\n",
      "Try using .loc[row_indexer,col_indexer] = value instead\n",
      "\n",
      "See the caveats in the documentation: https://pandas.pydata.org/pandas-docs/stable/user_guide/indexing.html#returning-a-view-versus-a-copy\n",
      "  cart['group'] = cart.groupby('order_id')['product'].transform(lambda x: ','.join(x))\n"
     ]
    }
   ],
   "source": [
    "cart['group'] = cart.groupby('order_id')['product'].transform(lambda x: ','.join(x))"
   ]
  },
  {
   "cell_type": "code",
   "execution_count": 28,
   "id": "56ea1e05",
   "metadata": {},
   "outputs": [],
   "source": [
    "cart = cart[['order_id', 'group']].drop_duplicates()\n"
   ]
  },
  {
   "cell_type": "code",
   "execution_count": 29,
   "id": "67ca4ab3",
   "metadata": {},
   "outputs": [
    {
     "name": "stdout",
     "output_type": "stream",
     "text": [
      "('iPhone', 'Lightning Charging Cable') 1002\n",
      "('Google Phone', 'USB-C Charging Cable') 985\n",
      "('iPhone', 'Wired Headphones') 447\n",
      "('Google Phone', 'Wired Headphones') 413\n",
      "('Vareebadd Phone', 'USB-C Charging Cable') 361\n",
      "('iPhone', 'Apple Airpods Headphones') 360\n",
      "('Google Phone', 'Bose SoundSport Headphones') 220\n",
      "('USB-C Charging Cable', 'Wired Headphones') 159\n",
      "('Vareebadd Phone', 'Wired Headphones') 143\n",
      "('Lightning Charging Cable', 'Wired Headphones') 92\n"
     ]
    }
   ],
   "source": [
    "from itertools import combinations\n",
    "from collections import Counter\n",
    "count = Counter()\n",
    "for row in cart['group']:\n",
    "    row_list = row.split(',')\n",
    "    count.update(Counter(combinations(row_list, 2)))\n",
    "for keys,value in count.most_common(10):\n",
    "    print(keys, value)\n",
    "  \n"
   ]
  },
  {
   "cell_type": "markdown",
   "id": "c0b2374e",
   "metadata": {},
   "source": [
    "### Interpretation:  \n",
    "This information is really useful for us so we can offer some kind of discount on these product couples.\n"
   ]
  }
 ],
 "metadata": {
  "kernelspec": {
   "display_name": "Python 3",
   "language": "python",
   "name": "python3"
  },
  "language_info": {
   "codemirror_mode": {
    "name": "ipython",
    "version": 3
   },
   "file_extension": ".py",
   "mimetype": "text/x-python",
   "name": "python",
   "nbconvert_exporter": "python",
   "pygments_lexer": "ipython3",
   "version": "3.8.8"
  }
 },
 "nbformat": 4,
 "nbformat_minor": 5
}
